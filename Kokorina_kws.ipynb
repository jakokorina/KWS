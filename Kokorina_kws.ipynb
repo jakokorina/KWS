{
  "cells": [
    {
      "cell_type": "markdown",
      "metadata": {
        "id": "_lhrn5O-qUYZ"
      },
      "source": [
        "# Import and misc"
      ]
    },
    {
      "cell_type": "code",
      "execution_count": null,
      "metadata": {
        "id": "meO-Mp9jiAFC"
      },
      "outputs": [],
      "source": [
        "# Instal latest torch and torchaudio"
      ]
    },
    {
      "cell_type": "code",
      "execution_count": 1,
      "metadata": {
        "id": "bbUpoArCqUYa"
      },
      "outputs": [],
      "source": [
        "from typing import Tuple, Union, List, Callable, Optional\n",
        "from tqdm import tqdm\n",
        "from itertools import islice\n",
        "import pathlib\n",
        "import dataclasses\n",
        "\n",
        "import numpy as np\n",
        "import pandas as pd\n",
        "\n",
        "import torch\n",
        "import torch.nn.functional as F\n",
        "from torch import nn\n",
        "from torch import distributions\n",
        "from torch.utils.data import DataLoader, Dataset, WeightedRandomSampler\n",
        "from torch.nn.utils.rnn import pad_sequence\n",
        "\n",
        "import torchaudio\n",
        "from IPython import display as display_"
      ]
    },
    {
      "cell_type": "code",
      "execution_count": 2,
      "metadata": {
        "id": "3tqv5A1NjPif"
      },
      "outputs": [],
      "source": [
        "import random\n",
        "\n",
        "def set_random_seed(seed=42):\n",
        "    random.seed(seed)\n",
        "    np.random.seed(seed)\n",
        "    torch.manual_seed(seed)\n",
        "    if torch.cuda.is_available():\n",
        "        torch.cuda.manual_seed_all(seed)\n",
        "\n",
        "set_random_seed()"
      ]
    },
    {
      "cell_type": "markdown",
      "metadata": {
        "id": "812GwLfqqUYf"
      },
      "source": [
        "# Task"
      ]
    },
    {
      "cell_type": "markdown",
      "metadata": {
        "id": "i1DuQIyRqUYf"
      },
      "source": [
        "In this notebook we will implement a model for finding a keyword in a stream.\n",
        "\n",
        "We will implement the version with CRNN because it is easy and improves the model. \n",
        "(from https://www.dropbox.com/s/22ah2ba7dug6pzw/KWS_Attention.pdf)"
      ]
    },
    {
      "cell_type": "code",
      "execution_count": 3,
      "metadata": {
        "id": "8PdhApeEh9pH"
      },
      "outputs": [],
      "source": [
        "@dataclasses.dataclass\n",
        "class TaskConfig:\n",
        "    keyword: str = 'sheila'  # We will use 1 key word -- 'sheila'\n",
        "    batch_size: int = 128\n",
        "    learning_rate: float = 3e-4\n",
        "    weight_decay: float = 1e-5\n",
        "    num_epochs: int = 40\n",
        "    n_mels: int = 40\n",
        "    cnn_out_channels: int = 8\n",
        "    kernel_size: Tuple[int, int] = (5, 20)\n",
        "    stride: Tuple[int, int] = (2, 8)\n",
        "    hidden_size: int = 64\n",
        "    gru_num_layers: int = 2\n",
        "    bidirectional: bool = False\n",
        "    num_classes: int = 2\n",
        "    sample_rate: int = 16000\n",
        "    device: torch.device = torch.device(\n",
        "        'cuda:0' if torch.cuda.is_available() else 'cpu')\n",
        "    max_window_length: int = 20\n",
        "    temperature: float = 5.0"
      ]
    },
    {
      "cell_type": "markdown",
      "metadata": {
        "id": "KA1gPmE1h9pI"
      },
      "source": [
        "# Data"
      ]
    },
    {
      "cell_type": "code",
      "execution_count": 12,
      "metadata": {
        "colab": {
          "base_uri": "https://localhost:8080/"
        },
        "id": "Y2N8zcx9MF1X",
        "outputId": "c92c09b4-fbea-4710-8ca6-7e7835519a2c"
      },
      "outputs": [
        {
          "output_type": "stream",
          "name": "stdout",
          "text": [
            "--2022-11-06 16:54:57--  http://download.tensorflow.org/data/speech_commands_v0.01.tar.gz\n",
            "Resolving download.tensorflow.org (download.tensorflow.org)... 142.251.107.128, 2607:f8b0:400c:c32::80\n",
            "Connecting to download.tensorflow.org (download.tensorflow.org)|142.251.107.128|:80... connected.\n",
            "HTTP request sent, awaiting response... 200 OK\n",
            "Length: 1489096277 (1.4G) [application/gzip]\n",
            "Saving to: ‘speech_commands_v0.01.tar.gz’\n",
            "\n",
            "speech_commands_v0. 100%[===================>]   1.39G   250MB/s    in 7.5s    \n",
            "\n",
            "2022-11-06 16:55:05 (190 MB/s) - ‘speech_commands_v0.01.tar.gz’ saved [1489096277/1489096277]\n",
            "\n"
          ]
        }
      ],
      "source": [
        "!wget http://download.tensorflow.org/data/speech_commands_v0.01.tar.gz -O speech_commands_v0.01.tar.gz\n",
        "!mkdir speech_commands && tar -C speech_commands -xvzf speech_commands_v0.01.tar.gz 1> log"
      ]
    },
    {
      "cell_type": "code",
      "execution_count": null,
      "metadata": {
        "id": "12wBTK0mNUsG"
      },
      "outputs": [],
      "source": [
        "class SpeechCommandDataset(Dataset):\n",
        "\n",
        "    def __init__(\n",
        "        self,\n",
        "        transform: Optional[Callable] = None,\n",
        "        path2dir: str = None,\n",
        "        keywords: Union[str, List[str]] = None,\n",
        "        csv: Optional[pd.DataFrame] = None\n",
        "    ):        \n",
        "        self.transform = transform\n",
        "\n",
        "        if csv is None:\n",
        "            path2dir = pathlib.Path(path2dir)\n",
        "            keywords = keywords if isinstance(keywords, list) else [keywords]\n",
        "            \n",
        "            all_keywords = [\n",
        "                p.stem for p in path2dir.glob('*')\n",
        "                if p.is_dir() and not p.stem.startswith('_')\n",
        "            ]\n",
        "\n",
        "            triplets = []\n",
        "            for keyword in all_keywords:\n",
        "                paths = (path2dir / keyword).rglob('*.wav')\n",
        "                if keyword in keywords:\n",
        "                    for path2wav in paths:\n",
        "                        triplets.append((path2wav.as_posix(), keyword, 1))\n",
        "                else:\n",
        "                    for path2wav in paths:\n",
        "                        triplets.append((path2wav.as_posix(), keyword, 0))\n",
        "            \n",
        "            self.csv = pd.DataFrame(\n",
        "                triplets,\n",
        "                columns=['path', 'keyword', 'label']\n",
        "            )\n",
        "\n",
        "        else:\n",
        "            self.csv = csv\n",
        "    \n",
        "    def __getitem__(self, index: int):\n",
        "        instance = self.csv.iloc[index]\n",
        "\n",
        "        path2wav = instance['path']\n",
        "        wav, sr = torchaudio.load(path2wav)\n",
        "        wav = wav.sum(dim=0)\n",
        "        \n",
        "        if self.transform:\n",
        "            wav = self.transform(wav)\n",
        "\n",
        "        return {\n",
        "            'wav': wav,\n",
        "            'keywors': instance['keyword'],\n",
        "            'label': instance['label']\n",
        "        }\n",
        "\n",
        "    def __len__(self):\n",
        "        return len(self.csv)"
      ]
    },
    {
      "cell_type": "code",
      "execution_count": null,
      "metadata": {
        "id": "-1rVkT81Pk90"
      },
      "outputs": [],
      "source": [
        "dataset = SpeechCommandDataset(\n",
        "    path2dir='speech_commands', keywords=TaskConfig.keyword\n",
        ")"
      ]
    },
    {
      "cell_type": "code",
      "execution_count": null,
      "metadata": {
        "colab": {
          "base_uri": "https://localhost:8080/",
          "height": 264
        },
        "id": "DFwhAXdfQLIA",
        "outputId": "4fd9d35e-ed63-48e8-e11e-174601f2619c"
      },
      "outputs": [
        {
          "data": {
            "text/html": [
              "\n",
              "  <div id=\"df-06e36297-006b-4ff1-9849-979137d0d998\">\n",
              "    <div class=\"colab-df-container\">\n",
              "      <div>\n",
              "<style scoped>\n",
              "    .dataframe tbody tr th:only-of-type {\n",
              "        vertical-align: middle;\n",
              "    }\n",
              "\n",
              "    .dataframe tbody tr th {\n",
              "        vertical-align: top;\n",
              "    }\n",
              "\n",
              "    .dataframe thead th {\n",
              "        text-align: right;\n",
              "    }\n",
              "</style>\n",
              "<table border=\"1\" class=\"dataframe\">\n",
              "  <thead>\n",
              "    <tr style=\"text-align: right;\">\n",
              "      <th></th>\n",
              "      <th>path</th>\n",
              "      <th>keyword</th>\n",
              "      <th>label</th>\n",
              "    </tr>\n",
              "  </thead>\n",
              "  <tbody>\n",
              "    <tr>\n",
              "      <th>50866</th>\n",
              "      <td>speech_commands/two/f4cae173_nohash_0.wav</td>\n",
              "      <td>two</td>\n",
              "      <td>0</td>\n",
              "    </tr>\n",
              "    <tr>\n",
              "      <th>1003</th>\n",
              "      <td>speech_commands/happy/d3a18257_nohash_1.wav</td>\n",
              "      <td>happy</td>\n",
              "      <td>0</td>\n",
              "    </tr>\n",
              "    <tr>\n",
              "      <th>38126</th>\n",
              "      <td>speech_commands/right/471a0925_nohash_0.wav</td>\n",
              "      <td>right</td>\n",
              "      <td>0</td>\n",
              "    </tr>\n",
              "    <tr>\n",
              "      <th>144</th>\n",
              "      <td>speech_commands/happy/518588b6_nohash_1.wav</td>\n",
              "      <td>happy</td>\n",
              "      <td>0</td>\n",
              "    </tr>\n",
              "    <tr>\n",
              "      <th>31651</th>\n",
              "      <td>speech_commands/go/5588c7e6_nohash_0.wav</td>\n",
              "      <td>go</td>\n",
              "      <td>0</td>\n",
              "    </tr>\n",
              "  </tbody>\n",
              "</table>\n",
              "</div>\n",
              "      <button class=\"colab-df-convert\" onclick=\"convertToInteractive('df-06e36297-006b-4ff1-9849-979137d0d998')\"\n",
              "              title=\"Convert this dataframe to an interactive table.\"\n",
              "              style=\"display:none;\">\n",
              "        \n",
              "  <svg xmlns=\"http://www.w3.org/2000/svg\" height=\"24px\"viewBox=\"0 0 24 24\"\n",
              "       width=\"24px\">\n",
              "    <path d=\"M0 0h24v24H0V0z\" fill=\"none\"/>\n",
              "    <path d=\"M18.56 5.44l.94 2.06.94-2.06 2.06-.94-2.06-.94-.94-2.06-.94 2.06-2.06.94zm-11 1L8.5 8.5l.94-2.06 2.06-.94-2.06-.94L8.5 2.5l-.94 2.06-2.06.94zm10 10l.94 2.06.94-2.06 2.06-.94-2.06-.94-.94-2.06-.94 2.06-2.06.94z\"/><path d=\"M17.41 7.96l-1.37-1.37c-.4-.4-.92-.59-1.43-.59-.52 0-1.04.2-1.43.59L10.3 9.45l-7.72 7.72c-.78.78-.78 2.05 0 2.83L4 21.41c.39.39.9.59 1.41.59.51 0 1.02-.2 1.41-.59l7.78-7.78 2.81-2.81c.8-.78.8-2.07 0-2.86zM5.41 20L4 18.59l7.72-7.72 1.47 1.35L5.41 20z\"/>\n",
              "  </svg>\n",
              "      </button>\n",
              "      \n",
              "  <style>\n",
              "    .colab-df-container {\n",
              "      display:flex;\n",
              "      flex-wrap:wrap;\n",
              "      gap: 12px;\n",
              "    }\n",
              "\n",
              "    .colab-df-convert {\n",
              "      background-color: #E8F0FE;\n",
              "      border: none;\n",
              "      border-radius: 50%;\n",
              "      cursor: pointer;\n",
              "      display: none;\n",
              "      fill: #1967D2;\n",
              "      height: 32px;\n",
              "      padding: 0 0 0 0;\n",
              "      width: 32px;\n",
              "    }\n",
              "\n",
              "    .colab-df-convert:hover {\n",
              "      background-color: #E2EBFA;\n",
              "      box-shadow: 0px 1px 2px rgba(60, 64, 67, 0.3), 0px 1px 3px 1px rgba(60, 64, 67, 0.15);\n",
              "      fill: #174EA6;\n",
              "    }\n",
              "\n",
              "    [theme=dark] .colab-df-convert {\n",
              "      background-color: #3B4455;\n",
              "      fill: #D2E3FC;\n",
              "    }\n",
              "\n",
              "    [theme=dark] .colab-df-convert:hover {\n",
              "      background-color: #434B5C;\n",
              "      box-shadow: 0px 1px 3px 1px rgba(0, 0, 0, 0.15);\n",
              "      filter: drop-shadow(0px 1px 2px rgba(0, 0, 0, 0.3));\n",
              "      fill: #FFFFFF;\n",
              "    }\n",
              "  </style>\n",
              "\n",
              "      <script>\n",
              "        const buttonEl =\n",
              "          document.querySelector('#df-06e36297-006b-4ff1-9849-979137d0d998 button.colab-df-convert');\n",
              "        buttonEl.style.display =\n",
              "          google.colab.kernel.accessAllowed ? 'block' : 'none';\n",
              "\n",
              "        async function convertToInteractive(key) {\n",
              "          const element = document.querySelector('#df-06e36297-006b-4ff1-9849-979137d0d998');\n",
              "          const dataTable =\n",
              "            await google.colab.kernel.invokeFunction('convertToInteractive',\n",
              "                                                     [key], {});\n",
              "          if (!dataTable) return;\n",
              "\n",
              "          const docLinkHtml = 'Like what you see? Visit the ' +\n",
              "            '<a target=\"_blank\" href=https://colab.research.google.com/notebooks/data_table.ipynb>data table notebook</a>'\n",
              "            + ' to learn more about interactive tables.';\n",
              "          element.innerHTML = '';\n",
              "          dataTable['output_type'] = 'display_data';\n",
              "          await google.colab.output.renderOutput(dataTable, element);\n",
              "          const docLink = document.createElement('div');\n",
              "          docLink.innerHTML = docLinkHtml;\n",
              "          element.appendChild(docLink);\n",
              "        }\n",
              "      </script>\n",
              "    </div>\n",
              "  </div>\n",
              "  "
            ],
            "text/plain": [
              "                                              path keyword  label\n",
              "50866    speech_commands/two/f4cae173_nohash_0.wav     two      0\n",
              "1003   speech_commands/happy/d3a18257_nohash_1.wav   happy      0\n",
              "38126  speech_commands/right/471a0925_nohash_0.wav   right      0\n",
              "144    speech_commands/happy/518588b6_nohash_1.wav   happy      0\n",
              "31651     speech_commands/go/5588c7e6_nohash_0.wav      go      0"
            ]
          },
          "execution_count": 9,
          "metadata": {},
          "output_type": "execute_result"
        }
      ],
      "source": [
        "dataset.csv.sample(5)"
      ]
    },
    {
      "cell_type": "markdown",
      "metadata": {
        "id": "LUxfDJw1qUYi"
      },
      "source": [
        "### Augmentations"
      ]
    },
    {
      "cell_type": "code",
      "execution_count": null,
      "metadata": {
        "id": "dkmkxPWQqUYe"
      },
      "outputs": [],
      "source": [
        "class AugsCreation:\n",
        "\n",
        "    def __init__(self):\n",
        "        self.background_noises = [\n",
        "            'speech_commands/_background_noise_/white_noise.wav',\n",
        "            'speech_commands/_background_noise_/dude_miaowing.wav',\n",
        "            'speech_commands/_background_noise_/doing_the_dishes.wav',\n",
        "            'speech_commands/_background_noise_/exercise_bike.wav',\n",
        "            'speech_commands/_background_noise_/pink_noise.wav',\n",
        "            'speech_commands/_background_noise_/running_tap.wav'\n",
        "        ]\n",
        "\n",
        "        self.noises = [\n",
        "            torchaudio.load(p)[0].squeeze()\n",
        "            for p in self.background_noises\n",
        "        ]\n",
        "\n",
        "    def add_rand_noise(self, audio):\n",
        "\n",
        "        # randomly choose noise\n",
        "        noise_num = torch.randint(low=0, high=len(\n",
        "            self.background_noises), size=(1,)).item()\n",
        "        noise = self.noises[noise_num]\n",
        "\n",
        "        noise_level = torch.Tensor([1])  # [0, 40]\n",
        "\n",
        "        noise_energy = torch.norm(noise)\n",
        "        audio_energy = torch.norm(audio)\n",
        "        alpha = (audio_energy / noise_energy) * \\\n",
        "            torch.pow(10, -noise_level / 20)\n",
        "\n",
        "        start = torch.randint(\n",
        "            low=0,\n",
        "            high=max(int(noise.size(0) - audio.size(0) - 1), 1),\n",
        "            size=(1,)\n",
        "        ).item()\n",
        "        noise_sample = noise[start: start + audio.size(0)]\n",
        "\n",
        "        audio_new = audio + alpha * noise_sample\n",
        "        audio_new.clamp_(-1, 1)\n",
        "        return audio_new\n",
        "\n",
        "    def __call__(self, wav):\n",
        "        aug_num = torch.randint(low=0, high=4, size=(1,)).item()   # choose 1 random aug from augs\n",
        "        augs = [\n",
        "            lambda x: x,\n",
        "            lambda x: (x + distributions.Normal(0, 0.01).sample(x.size())).clamp_(-1, 1),\n",
        "            lambda x: torchaudio.transforms.Vol(.25)(x),\n",
        "            lambda x: self.add_rand_noise(x)\n",
        "        ]\n",
        "\n",
        "        return augs[aug_num](wav)"
      ]
    },
    {
      "cell_type": "code",
      "execution_count": null,
      "metadata": {
        "id": "ClWThxyYh9pM"
      },
      "outputs": [],
      "source": [
        "set_random_seed()\n",
        "indexes = torch.randperm(len(dataset))\n",
        "train_indexes = indexes[:int(len(dataset) * 0.8)]\n",
        "val_indexes = indexes[int(len(dataset) * 0.8):]\n",
        "\n",
        "train_df = dataset.csv.iloc[train_indexes].reset_index(drop=True)\n",
        "val_df = dataset.csv.iloc[val_indexes].reset_index(drop=True)"
      ]
    },
    {
      "cell_type": "code",
      "execution_count": null,
      "metadata": {
        "id": "PDPLht5fqUYe"
      },
      "outputs": [],
      "source": [
        "# Sample is a dict of utt, word and label\n",
        "set_random_seed()\n",
        "train_set = SpeechCommandDataset(csv=train_df, transform=AugsCreation())\n",
        "val_set = SpeechCommandDataset(csv=val_df)"
      ]
    },
    {
      "cell_type": "markdown",
      "metadata": {
        "id": "2vbPDqd6qUYj"
      },
      "source": [
        "### Sampler for oversampling:"
      ]
    },
    {
      "cell_type": "code",
      "execution_count": null,
      "metadata": {
        "id": "rfnjRKo2qUYj"
      },
      "outputs": [],
      "source": [
        "# We should provide to WeightedRandomSampler _weight for every sample_; by default it is 1/len(target)\n",
        "\n",
        "def get_sampler(target):\n",
        "    class_sample_count = np.array(\n",
        "        [len(np.where(target == t)[0]) for t in np.unique(target)])   # for every class count it's number of occ.\n",
        "    weight = 1. / class_sample_count\n",
        "    samples_weight = np.array([weight[t] for t in target])\n",
        "    samples_weight = torch.from_numpy(samples_weight)\n",
        "    samples_weigth = samples_weight.float()\n",
        "    sampler = WeightedRandomSampler(samples_weight, len(samples_weight))\n",
        "    return sampler"
      ]
    },
    {
      "cell_type": "code",
      "execution_count": null,
      "metadata": {
        "id": "UM8gLmHeqUYj"
      },
      "outputs": [],
      "source": [
        "train_sampler = get_sampler(train_set.csv['label'].values)"
      ]
    },
    {
      "cell_type": "code",
      "execution_count": null,
      "metadata": {
        "id": "lyBqbxp0h9pO"
      },
      "outputs": [],
      "source": [
        "class Collator:\n",
        "    \n",
        "    def __call__(self, data):\n",
        "        wavs = []\n",
        "        labels = []    \n",
        "\n",
        "        for el in data:\n",
        "            wavs.append(el['wav'])\n",
        "            labels.append(el['label'])\n",
        "\n",
        "        # torch.nn.utils.rnn.pad_sequence takes list(Tensors) and returns padded (with 0.0) Tensor\n",
        "        wavs = pad_sequence(wavs, batch_first=True)    \n",
        "        labels = torch.Tensor(labels).long()\n",
        "        return wavs, labels"
      ]
    },
    {
      "cell_type": "markdown",
      "metadata": {
        "id": "e8G9xPRVqUYk"
      },
      "source": [
        "###  Dataloaders"
      ]
    },
    {
      "cell_type": "code",
      "execution_count": null,
      "metadata": {
        "id": "6wGBMcQiqUYk"
      },
      "outputs": [],
      "source": [
        "# Here we are obliged to use shuffle=False because of our sampler with randomness inside.\n",
        "\n",
        "train_loader = DataLoader(train_set, batch_size=TaskConfig.batch_size,\n",
        "                          shuffle=False, collate_fn=Collator(),\n",
        "                          sampler=train_sampler,\n",
        "                          num_workers=2, pin_memory=True)\n",
        "\n",
        "val_loader = DataLoader(val_set, batch_size=TaskConfig.batch_size,\n",
        "                        shuffle=False, collate_fn=Collator(),\n",
        "                        num_workers=2, pin_memory=True)"
      ]
    },
    {
      "cell_type": "markdown",
      "metadata": {
        "id": "kTlsn6cpqUYk"
      },
      "source": [
        "### Creating MelSpecs on GPU for speeeed: "
      ]
    },
    {
      "cell_type": "code",
      "execution_count": null,
      "metadata": {
        "id": "pRXMt6it56fW"
      },
      "outputs": [],
      "source": [
        "class LogMelspec:\n",
        "\n",
        "    def __init__(self, is_train, config):\n",
        "        # with augmentations\n",
        "        if is_train:\n",
        "            self.melspec = nn.Sequential(\n",
        "                torchaudio.transforms.MelSpectrogram(\n",
        "                    sample_rate=config.sample_rate,\n",
        "                    n_fft=400,\n",
        "                    win_length=400,\n",
        "                    hop_length=160,\n",
        "                    n_mels=config.n_mels\n",
        "                ),\n",
        "                torchaudio.transforms.FrequencyMasking(freq_mask_param=15),\n",
        "                torchaudio.transforms.TimeMasking(time_mask_param=35),\n",
        "            ).to(config.device)\n",
        "\n",
        "        # no augmentations\n",
        "        else:\n",
        "            self.melspec = torchaudio.transforms.MelSpectrogram(\n",
        "                sample_rate=config.sample_rate,\n",
        "                n_fft=400,\n",
        "                win_length=400,\n",
        "                hop_length=160,\n",
        "                n_mels=config.n_mels\n",
        "            ).to(config.device)\n",
        "\n",
        "    def __call__(self, batch):\n",
        "        # already on device\n",
        "        return torch.log(self.melspec(batch).clamp_(min=1e-9, max=1e9))\n",
        "\n",
        "    def to(self, device):\n",
        "        self.melspec = self.melspec.to(device)"
      ]
    },
    {
      "cell_type": "code",
      "execution_count": null,
      "metadata": {
        "id": "Pqkz4_gn8BiF"
      },
      "outputs": [],
      "source": [
        "melspec_train = LogMelspec(is_train=True, config=TaskConfig)\n",
        "melspec_val = LogMelspec(is_train=False, config=TaskConfig)"
      ]
    },
    {
      "cell_type": "markdown",
      "metadata": {
        "id": "zoAxmihY8yxr"
      },
      "source": [
        "### Quality measurment functions:"
      ]
    },
    {
      "cell_type": "code",
      "execution_count": null,
      "metadata": {
        "id": "euwD1UyuqUYk"
      },
      "outputs": [],
      "source": [
        "# FA - true: 0, model: 1\n",
        "# FR - true: 1, model: 0\n",
        "\n",
        "def count_FA_FR(preds, labels):\n",
        "    FA = torch.sum(preds[labels == 0])\n",
        "    FR = torch.sum(labels[preds == 0])\n",
        "    \n",
        "    # torch.numel - returns total number of elements in tensor\n",
        "    return FA.item() / torch.numel(preds), FR.item() / torch.numel(preds)"
      ]
    },
    {
      "cell_type": "code",
      "execution_count": null,
      "metadata": {
        "id": "YHBUrkT1qUYk"
      },
      "outputs": [],
      "source": [
        "def get_au_fa_fr(probs, labels):\n",
        "    sorted_probs, _ = torch.sort(probs)\n",
        "    sorted_probs = torch.cat((torch.Tensor([0]), sorted_probs, torch.Tensor([1])))\n",
        "    labels = torch.cat(labels, dim=0)\n",
        "        \n",
        "    FAs, FRs = [], []\n",
        "    for prob in sorted_probs:\n",
        "        preds = (probs >= prob) * 1\n",
        "        FA, FR = count_FA_FR(preds, labels)        \n",
        "        FAs.append(FA)\n",
        "        FRs.append(FR)\n",
        "    # plt.plot(FAs, FRs)\n",
        "    # plt.show()\n",
        "\n",
        "    # ~ area under curve using trapezoidal rule\n",
        "    return -np.trapz(FRs, x=FAs)"
      ]
    },
    {
      "cell_type": "markdown",
      "metadata": {
        "id": "CcEP5cEZqUYl"
      },
      "source": [
        "# Teacher Model"
      ]
    },
    {
      "cell_type": "code",
      "execution_count": 4,
      "metadata": {
        "colab": {
          "base_uri": "https://localhost:8080/"
        },
        "id": "2cP_pFIsy5p2",
        "outputId": "74441c78-a771-45c6-d6cf-6e2b07eb6cfe"
      },
      "outputs": [
        {
          "output_type": "execute_result",
          "data": {
            "text/plain": [
              "CRNN(\n",
              "  (conv): Sequential(\n",
              "    (0): Conv2d(1, 8, kernel_size=(5, 20), stride=(2, 8))\n",
              "    (1): Flatten(start_dim=1, end_dim=2)\n",
              "  )\n",
              "  (gru): GRU(144, 64, num_layers=2, batch_first=True, dropout=0.1)\n",
              "  (attention): Attention(\n",
              "    (energy): Sequential(\n",
              "      (0): Linear(in_features=64, out_features=64, bias=True)\n",
              "      (1): Tanh()\n",
              "      (2): Linear(in_features=64, out_features=1, bias=True)\n",
              "    )\n",
              "  )\n",
              "  (classifier): Linear(in_features=64, out_features=2, bias=True)\n",
              ")"
            ]
          },
          "metadata": {},
          "execution_count": 4
        }
      ],
      "source": [
        "class Attention(nn.Module):\n",
        "\n",
        "    def __init__(self, hidden_size: int):\n",
        "        super().__init__()\n",
        "\n",
        "        self.energy = nn.Sequential(\n",
        "            nn.Linear(hidden_size, hidden_size),\n",
        "            nn.Tanh(),\n",
        "            nn.Linear(hidden_size, 1)\n",
        "        )\n",
        "    \n",
        "    def forward(self, input):\n",
        "        energy = self.energy(input)\n",
        "        alpha = torch.softmax(energy, dim=-2)\n",
        "        return (input * alpha).sum(dim=-2)\n",
        "\n",
        "class CRNN(nn.Module):\n",
        "\n",
        "    def __init__(self, config: TaskConfig):\n",
        "        super().__init__()\n",
        "        self.config = config\n",
        "\n",
        "        self.conv = nn.Sequential(\n",
        "            nn.Conv2d(\n",
        "                in_channels=1, out_channels=config.cnn_out_channels,\n",
        "                kernel_size=config.kernel_size, stride=config.stride\n",
        "            ),\n",
        "            nn.Flatten(start_dim=1, end_dim=2),\n",
        "        )\n",
        "\n",
        "        self.conv_out_frequency = (config.n_mels - config.kernel_size[0]) // \\\n",
        "            config.stride[0] + 1\n",
        "        \n",
        "        self.gru = nn.GRU(\n",
        "            input_size=self.conv_out_frequency * config.cnn_out_channels,\n",
        "            hidden_size=config.hidden_size,\n",
        "            num_layers=config.gru_num_layers,\n",
        "            dropout=0.1,\n",
        "            bidirectional=config.bidirectional,\n",
        "            batch_first=True\n",
        "        )\n",
        "\n",
        "        self.attention = Attention(config.hidden_size)\n",
        "        self.classifier = nn.Linear(config.hidden_size, config.num_classes)\n",
        "    \n",
        "    def forward(self, input):\n",
        "        input = input.unsqueeze(dim=1)\n",
        "        conv_output = self.conv(input).transpose(-1, -2)\n",
        "        gru_output, _ = self.gru(conv_output)\n",
        "        contex_vector = self.attention(gru_output)\n",
        "        output = self.classifier(contex_vector)\n",
        "        return output\n",
        "\n",
        "config = TaskConfig()\n",
        "model = CRNN(config)\n",
        "model"
      ]
    },
    {
      "cell_type": "code",
      "execution_count": null,
      "metadata": {
        "colab": {
          "base_uri": "https://localhost:8080/"
        },
        "id": "dVi1KsewFm4z",
        "outputId": "0e58533e-077c-430e-f0a6-2ed4fda29411"
      },
      "outputs": [
        {
          "data": {
            "text/plain": [
              "TaskConfig(keyword='sheila', batch_size=128, learning_rate=0.0003, weight_decay=1e-05, num_epochs=40, n_mels=40, cnn_out_channels=8, kernel_size=(5, 20), stride=(2, 8), hidden_size=64, gru_num_layers=2, bidirectional=False, num_classes=2, sample_rate=16000, device=device(type='cuda', index=0), max_window_length=20, temperature=5.0)"
            ]
          },
          "execution_count": 21,
          "metadata": {},
          "output_type": "execute_result"
        }
      ],
      "source": [
        "config"
      ]
    },
    {
      "cell_type": "code",
      "execution_count": null,
      "metadata": {
        "id": "DmmSFvWaqUYn"
      },
      "outputs": [],
      "source": [
        "def train_epoch(model, opt, loader, log_melspec, device):\n",
        "    model.train()\n",
        "    for i, (batch, labels) in tqdm(enumerate(loader), total=len(loader)):\n",
        "        batch, labels = batch.to(device), labels.to(device)\n",
        "        batch = log_melspec(batch)\n",
        "\n",
        "        opt.zero_grad()\n",
        "\n",
        "        # run model # with autocast():\n",
        "        logits = model(batch)\n",
        "        # we need probabilities so we use softmax & CE separately\n",
        "        probs = F.softmax(logits, dim=-1)\n",
        "        loss = F.cross_entropy(logits, labels)\n",
        "\n",
        "        loss.backward()\n",
        "        torch.nn.utils.clip_grad_norm_(model.parameters(), 5)\n",
        "\n",
        "        opt.step()\n",
        "\n",
        "        # logging\n",
        "        argmax_probs = torch.argmax(probs, dim=-1)\n",
        "        FA, FR = count_FA_FR(argmax_probs, labels)\n",
        "        acc = torch.sum(argmax_probs == labels) / torch.numel(argmax_probs)\n",
        "\n",
        "    return acc"
      ]
    },
    {
      "cell_type": "code",
      "execution_count": null,
      "metadata": {
        "id": "UIeRbn4tqUYo"
      },
      "outputs": [],
      "source": [
        "@torch.no_grad()\n",
        "def validation(model, loader, log_melspec, device):\n",
        "    model.eval()\n",
        "\n",
        "    val_losses, accs, FAs, FRs = [], [], [], []\n",
        "    all_probs, all_labels = [], []\n",
        "    for i, (batch, labels) in tqdm(enumerate(loader)):\n",
        "        batch, labels = batch.to(device), labels.to(device)\n",
        "        batch = log_melspec(batch)\n",
        "\n",
        "        output = model(batch)\n",
        "        # we need probabilities so we use softmax & CE separately\n",
        "        probs = F.softmax(output, dim=-1)\n",
        "        loss = F.cross_entropy(output, labels)\n",
        "\n",
        "        # logging\n",
        "        argmax_probs = torch.argmax(probs, dim=-1)\n",
        "        all_probs.append(probs[:, 1].cpu())\n",
        "        all_labels.append(labels.cpu())\n",
        "        val_losses.append(loss.item())\n",
        "        accs.append(\n",
        "            torch.sum(argmax_probs == labels).item() / torch.numel(argmax_probs)\n",
        "        )\n",
        "        FA, FR = count_FA_FR(argmax_probs, labels)\n",
        "        FAs.append(FA)\n",
        "        FRs.append(FR)\n",
        "\n",
        "    # area under FA/FR curve for whole loader\n",
        "    au_fa_fr = get_au_fa_fr(torch.cat(all_probs, dim=0).cpu(), all_labels)\n",
        "    return au_fa_fr"
      ]
    },
    {
      "cell_type": "code",
      "execution_count": 6,
      "metadata": {
        "id": "PpyvKwp0k3IU"
      },
      "outputs": [],
      "source": [
        "from collections import defaultdict\n",
        "from IPython.display import clear_output\n",
        "from matplotlib import pyplot as plt\n",
        "\n",
        "history = defaultdict(list)"
      ]
    },
    {
      "cell_type": "markdown",
      "metadata": {
        "id": "GSNW-nZCJ4Q0"
      },
      "source": [
        "# Training teacher model"
      ]
    },
    {
      "cell_type": "code",
      "execution_count": null,
      "metadata": {
        "colab": {
          "base_uri": "https://localhost:8080/"
        },
        "id": "Q8sVpHNoocgA",
        "outputId": "9e1ba727-243b-4d7c-c88c-14096c66338e"
      },
      "outputs": [
        {
          "name": "stdout",
          "output_type": "stream",
          "text": [
            "CRNN(\n",
            "  (conv): Sequential(\n",
            "    (0): Conv2d(1, 8, kernel_size=(5, 20), stride=(2, 8))\n",
            "    (1): Flatten(start_dim=1, end_dim=2)\n",
            "  )\n",
            "  (gru): GRU(144, 32, num_layers=2, batch_first=True, dropout=0.1)\n",
            "  (attention): Attention(\n",
            "    (energy): Sequential(\n",
            "      (0): Linear(in_features=32, out_features=32, bias=True)\n",
            "      (1): Tanh()\n",
            "      (2): Linear(in_features=32, out_features=1, bias=True)\n",
            "    )\n",
            "  )\n",
            "  (classifier): Linear(in_features=32, out_features=2, bias=True)\n",
            ")\n"
          ]
        }
      ],
      "source": [
        "set_random_seed()\n",
        "config = TaskConfig(hidden_size=32)\n",
        "teacher_model = CRNN(config).to(config.device)\n",
        "\n",
        "print(teacher_model)\n",
        "\n",
        "opt = torch.optim.Adam(\n",
        "    model.parameters(),\n",
        "    lr=config.learning_rate,\n",
        "    weight_decay=config.weight_decay\n",
        ")"
      ]
    },
    {
      "cell_type": "code",
      "execution_count": null,
      "metadata": {
        "colab": {
          "base_uri": "https://localhost:8080/"
        },
        "id": "zedXm9dmINAE",
        "outputId": "136fa6bc-04db-4d89-fc82-2c9f1dc84cc1"
      },
      "outputs": [
        {
          "data": {
            "text/plain": [
              "25387"
            ]
          },
          "execution_count": 26,
          "metadata": {},
          "output_type": "execute_result"
        }
      ],
      "source": [
        "sum([p.numel() for p in teacher_model.parameters()])"
      ]
    },
    {
      "cell_type": "code",
      "execution_count": null,
      "metadata": {
        "id": "vt2kjqC-IobK"
      },
      "outputs": [],
      "source": []
    },
    {
      "cell_type": "code",
      "execution_count": null,
      "metadata": {
        "colab": {
          "base_uri": "https://localhost:8080/",
          "height": 295
        },
        "id": "32oooz4lqUYo",
        "outputId": "8f978f8f-0c7f-4c51-aaba-99c197f37d0c",
        "scrolled": false
      },
      "outputs": [
        {
          "data": {
            "image/png": "[encoded data removed]",
            "text/plain": [
              "<Figure size 432x288 with 1 Axes>"
            ]
          },
          "metadata": {
            "needs_background": "light"
          },
          "output_type": "display_data"
        },
        {
          "name": "stdout",
          "output_type": "stream",
          "text": [
            "END OF EPOCH 39\n"
          ]
        }
      ],
      "source": [
        "# TRAIN\n",
        "set_random_seed()\n",
        "for n in range(config.num_epochs):\n",
        "\n",
        "    train_epoch(teacher_model, opt, train_loader,\n",
        "                melspec_train, config.device)\n",
        "\n",
        "    au_fa_fr = validation(model, val_loader,\n",
        "                          melspec_val, config.device)\n",
        "    history['val_metric'].append(au_fa_fr)\n",
        "\n",
        "    clear_output()\n",
        "    plt.plot(history['val_metric'])\n",
        "    plt.ylabel('Metric')\n",
        "    plt.xlabel('Epoch')\n",
        "    plt.grid()\n",
        "    plt.show()\n",
        "\n",
        "    print('END OF EPOCH', n)"
      ]
    },
    {
      "cell_type": "code",
      "execution_count": null,
      "metadata": {
        "id": "3wwYwdlnY6k1"
      },
      "outputs": [],
      "source": [
        "compiled_model = torch.jit.script(teacher_model)\n",
        "torch.jit.save(compiled_model, 'teacher_model.pt')"
      ]
    },
    {
      "cell_type": "code",
      "execution_count": null,
      "metadata": {
        "colab": {
          "base_uri": "https://localhost:8080/"
        },
        "id": "WBkTUHZcVugz",
        "outputId": "576547d0-ff36-4507-d136-f19663f0216c"
      },
      "outputs": [
        {
          "data": {
            "text/plain": [
              "defaultdict(list,\n",
              "            {'val_metric': [0.0008932225219422994,\n",
              "              0.0005604661012713711,\n",
              "              0.0003550541622077897,\n",
              "              0.00028862342253474266,\n",
              "              0.0002266892299640709,\n",
              "              0.0001595185143909648,\n",
              "              0.00013662103432220073,\n",
              "              0.00012106363777821639,\n",
              "              0.00010401435433895162,\n",
              "              8.973401297732733e-05,\n",
              "              0.00010749343457874558,\n",
              "              7.30726201308355e-05,\n",
              "              9.000852016605894e-05,\n",
              "              7.856873145304861e-05,\n",
              "              8.62609002851145e-05,\n",
              "              6.993965765074659e-05,\n",
              "              6.47478912551707e-05,\n",
              "              7.575801654234027e-05,\n",
              "              7.027384031528941e-05,\n",
              "              5.704378732794255e-05,\n",
              "              7.243409253965547e-05,\n",
              "              6.22773265565863e-05,\n",
              "              5.876840857888673e-05,\n",
              "              4.7107820605374886e-05,\n",
              "              6.279053564856278e-05,\n",
              "              6.351260890587849e-05,\n",
              "              4.456564533581703e-05,\n",
              "              4.795521236189416e-05,\n",
              "              5.013933477658472e-05,\n",
              "              3.7165886335226094e-05,\n",
              "              3.859213020711419e-05,\n",
              "              3.270812829212817e-05,\n",
              "              3.710621085941487e-05,\n",
              "              3.200992522513692e-05,\n",
              "              4.0298848815315e-05,\n",
              "              4.180863835333879e-05,\n",
              "              3.228443241386852e-05,\n",
              "              3.254103695985676e-05,\n",
              "              3.468935408906058e-05,\n",
              "              2.839955893855828e-05]})"
            ]
          },
          "execution_count": 27,
          "metadata": {},
          "output_type": "execute_result"
        }
      ],
      "source": [
        "history"
      ]
    },
    {
      "cell_type": "markdown",
      "metadata": {
        "id": "Jn9KywrP4apr"
      },
      "source": [
        "# Decorators for computations"
      ]
    },
    {
      "cell_type": "code",
      "execution_count": null,
      "metadata": {
        "id": "95tCNWnx4Zny"
      },
      "outputs": [],
      "source": [
        "import time\n",
        "\n",
        "\n",
        "class Timer:\n",
        "\n",
        "    def __init__(self, name: str, verbose=False):\n",
        "        self.name = name\n",
        "        self.verbose = verbose\n",
        "\n",
        "    def __enter__(self):\n",
        "        self.t = time.time()\n",
        "        return self\n",
        "\n",
        "    def __exit__(self, type, value, traceback):\n",
        "        self.t = time.time() - self.t\n",
        "\n",
        "        if self.verbose:\n",
        "            print(f\"{self.name.capitalize()} | Elapsed time : {self.t:.10f}\")"
      ]
    },
    {
      "cell_type": "code",
      "execution_count": null,
      "metadata": {
        "colab": {
          "base_uri": "https://localhost:8080/"
        },
        "id": "4k3-r0M--1NS",
        "outputId": "8c531e82-bae8-4b69-9e1e-adac5036814c"
      },
      "outputs": [
        {
          "name": "stdout",
          "output_type": "stream",
          "text": [
            "Looking in indexes: https://pypi.org/simple, https://us-python.pkg.dev/colab-wheels/public/simple/\n",
            "Collecting thop\n",
            "  Downloading thop-0.1.1.post2209072238-py3-none-any.whl (15 kB)\n",
            "Requirement already satisfied: torch in /usr/local/lib/python3.7/dist-packages (from thop) (1.12.1+cu113)\n",
            "Requirement already satisfied: typing-extensions in /usr/local/lib/python3.7/dist-packages (from torch->thop) (4.1.1)\n",
            "Installing collected packages: thop\n",
            "Successfully installed thop-0.1.1.post2209072238\n"
          ]
        }
      ],
      "source": [
        "!pip install thop"
      ]
    },
    {
      "cell_type": "code",
      "execution_count": null,
      "metadata": {
        "id": "-L_dpq8a4kYx"
      },
      "outputs": [],
      "source": [
        "from thop import profile  # !pip install thop\n",
        "\n",
        "# Usage example:\n",
        "# profile(Model(), (torch.randn(1, 1, 4), ))"
      ]
    },
    {
      "cell_type": "code",
      "execution_count": null,
      "metadata": {
        "id": "tx6CeP43-2Ub"
      },
      "outputs": [],
      "source": [
        "import tempfile\n",
        "\n",
        "def get_size_in_megabytes(model):\n",
        "    # https://pytorch.org/tutorials/recipes/recipes/dynamic_quantization.html#look-at-model-size\n",
        "    with tempfile.TemporaryFile() as f:\n",
        "        torch.save(model.state_dict(), f)\n",
        "        size = f.tell() / 2**20\n",
        "    return size"
      ]
    },
    {
      "cell_type": "code",
      "execution_count": null,
      "metadata": {
        "id": "uiJR14LnGrh_"
      },
      "outputs": [],
      "source": [
        "def compute_metrics(model, device):\n",
        "    # making 2 second recording for test\n",
        "    batch = next(iter(train_loader))[0][:2, :]\n",
        "    melspec_train.to(device)\n",
        "    long_wav = melspec_train(torch.cat([batch[0, :], batch[1, :]]).unsqueeze(0).to(device))\n",
        "    with Timer(\"\", verbose=True) as t:\n",
        "        with torch.no_grad():\n",
        "            _ = model(long_wav)\n",
        "    time = t.t\n",
        "    macs, params = profile(model, (long_wav, ))\n",
        "    print(f\"MAC'c: {macs}\")\n",
        "    size = get_size_in_megabytes(model)\n",
        "    print(f\"Size of model: {size}\")\n",
        "    return time, macs, size"
      ]
    },
    {
      "cell_type": "markdown",
      "metadata": {
        "id": "W3t31LIDGoNA"
      },
      "source": [
        "# Teacher metrics"
      ]
    },
    {
      "cell_type": "code",
      "execution_count": null,
      "metadata": {
        "colab": {
          "base_uri": "https://localhost:8080/"
        },
        "id": "OmtMqXfVGneE",
        "outputId": "beef45ec-6a69-40a2-f56d-c9860770d731"
      },
      "outputs": [
        {
          "name": "stdout",
          "output_type": "stream",
          "text": [
            " | Elapsed time : 3.5237913132\n",
            "[INFO] Register count_convNd() for <class 'torch.nn.modules.conv.Conv2d'>.\n",
            "[INFO] Register zero_ops() for <class 'torch.nn.modules.container.Sequential'>.\n",
            "[INFO] Register count_gru() for <class 'torch.nn.modules.rnn.GRU'>.\n",
            "[INFO] Register count_linear() for <class 'torch.nn.modules.linear.Linear'>.\n",
            "MAC'c: 904608.0\n",
            "Size of model: 0.10240364074707031\n"
          ]
        }
      ],
      "source": [
        "teacher_t, teacher_macs, teacher_size = compute_metrics(teacher_model, config.device)"
      ]
    },
    {
      "cell_type": "markdown",
      "metadata": {
        "id": "QRZB9KXyVvfa"
      },
      "source": [
        "# Distillation train functions"
      ]
    },
    {
      "cell_type": "code",
      "execution_count": null,
      "metadata": {
        "id": "fhQa0Lup3uWr"
      },
      "outputs": [],
      "source": [
        "from collections import defaultdict\n",
        "from IPython.display import clear_output\n",
        "from matplotlib import pyplot as plt"
      ]
    },
    {
      "cell_type": "code",
      "execution_count": 5,
      "metadata": {
        "id": "WLZ68FMwkp9p"
      },
      "outputs": [],
      "source": [
        "@dataclasses.dataclass\n",
        "class SmallConfig:\n",
        "    keyword: str = 'sheila'  # We will use 1 key word -- 'sheila'\n",
        "    batch_size: int = 128\n",
        "    learning_rate: float = 3e-4\n",
        "    weight_decay: float = 1e-5\n",
        "    num_epochs: int = 40\n",
        "    n_mels: int = 40\n",
        "    cnn_out_channels: int = 8\n",
        "    kernel_size: Tuple[int, int] = (5, 20)\n",
        "    stride: Tuple[int, int] = (2, 8)\n",
        "    hidden_size: int = 20\n",
        "    gru_num_layers: int = 1\n",
        "    bidirectional: bool = False\n",
        "    num_classes: int = 2\n",
        "    sample_rate: int = 16000\n",
        "    device: torch.device = torch.device(\n",
        "        'cuda:0' if torch.cuda.is_available() else 'cpu')\n",
        "    max_window_length: int = 40\n",
        "    temperature: float = 5.0\n",
        "    teacher_loss_coeff: float = 0.5\n",
        "    attention_dim: int = 10"
      ]
    },
    {
      "cell_type": "code",
      "execution_count": null,
      "metadata": {
        "id": "1guSqniIfz54"
      },
      "outputs": [],
      "source": [
        "def softmax_with_temp(logits, temp=1):\n",
        "    return F.softmax(logits / temp, dim=-1)\n",
        "\n",
        "def train_epoch_distil(model, teacher, opt, loader, log_melspec, device, config):\n",
        "    model.train()\n",
        "    for i, (batch, labels) in tqdm(enumerate(loader), total=len(loader)):\n",
        "        batch, labels = batch.to(device), labels.to(device)\n",
        "        batch = log_melspec(batch)\n",
        "\n",
        "        opt.zero_grad()\n",
        "\n",
        "        # run model # with autocast():\n",
        "        logits = model(batch)\n",
        "        with torch.no_grad():\n",
        "            teacher_logits = teacher(batch)\n",
        "        # we need probabilities so we use softmax & CE separately\n",
        "        probs = softmax_with_temp(logits)\n",
        "        true_loss = F.cross_entropy(logits, labels)\n",
        "        teacher_loss = F.cross_entropy(\n",
        "                                    softmax_with_temp(logits, config.temperature),\n",
        "                                    softmax_with_temp(teacher_logits, config.temperature)\n",
        "        )\n",
        "        loss =  (1 - config.teacher_loss_coeff) * true_loss + config.teacher_loss_coeff * teacher_loss\n",
        "\n",
        "        loss.backward()\n",
        "        torch.nn.utils.clip_grad_norm_(model.parameters(), 5)\n",
        "\n",
        "        opt.step()\n",
        "\n",
        "        # logging\n",
        "        argmax_probs = torch.argmax(probs, dim=-1)\n",
        "        FA, FR = count_FA_FR(argmax_probs, labels)\n",
        "        acc = torch.sum(argmax_probs == labels) / torch.numel(argmax_probs)\n",
        "\n",
        "    return acc\n",
        "\n",
        "def train(model, teacher_model, config, history):\n",
        "    set_random_seed()\n",
        "    for n in range(config.num_epochs):\n",
        "\n",
        "        train_epoch_distil(model, teacher_model, opt, train_loader,\n",
        "                    melspec_train, config.device, config)\n",
        "\n",
        "        au_fa_fr = validation(model, val_loader,\n",
        "                            melspec_val, config.device)\n",
        "        history['val_metric'].append(au_fa_fr)\n",
        "\n",
        "        clear_output()\n",
        "        plt.plot(history['val_metric'])\n",
        "        plt.ylabel('Metric')\n",
        "        plt.xlabel('Epoch')\n",
        "        plt.grid()\n",
        "        plt.show()\n",
        "\n",
        "        print('END OF EPOCH', n)"
      ]
    },
    {
      "cell_type": "markdown",
      "metadata": {
        "id": "4CFQ1yJWJ3dC"
      },
      "source": [
        "# Base distillation model"
      ]
    },
    {
      "cell_type": "code",
      "execution_count": null,
      "metadata": {
        "colab": {
          "base_uri": "https://localhost:8080/"
        },
        "id": "u7-l8TkGuNvc",
        "outputId": "8dea455e-9821-4dbe-8795-85fded2b0367"
      },
      "outputs": [
        {
          "name": "stdout",
          "output_type": "stream",
          "text": [
            "model: \n",
            " CRNN(\n",
            "  (conv): Sequential(\n",
            "    (0): Conv2d(1, 8, kernel_size=(5, 20), stride=(2, 8))\n",
            "    (1): Flatten(start_dim=1, end_dim=2)\n",
            "  )\n",
            "  (gru): GRU(144, 20, batch_first=True, dropout=0.1)\n",
            "  (attention): Attention(\n",
            "    (energy): Sequential(\n",
            "      (0): Linear(in_features=20, out_features=20, bias=True)\n",
            "      (1): Tanh()\n",
            "      (2): Linear(in_features=20, out_features=1, bias=True)\n",
            "    )\n",
            "  )\n",
            "  (classifier): Linear(in_features=20, out_features=2, bias=True)\n",
            ")\n",
            "teacher model: \n",
            " RecursiveScriptModule(\n",
            "  original_name=CRNN\n",
            "  (conv): RecursiveScriptModule(\n",
            "    original_name=Sequential\n",
            "    (0): RecursiveScriptModule(original_name=Conv2d)\n",
            "    (1): RecursiveScriptModule(original_name=Flatten)\n",
            "  )\n",
            "  (gru): RecursiveScriptModule(original_name=GRU)\n",
            "  (attention): RecursiveScriptModule(\n",
            "    original_name=Attention\n",
            "    (energy): RecursiveScriptModule(\n",
            "      original_name=Sequential\n",
            "      (0): RecursiveScriptModule(original_name=Linear)\n",
            "      (1): RecursiveScriptModule(original_name=Tanh)\n",
            "      (2): RecursiveScriptModule(original_name=Linear)\n",
            "    )\n",
            "  )\n",
            "  (classifier): RecursiveScriptModule(original_name=Linear)\n",
            ")\n"
          ]
        }
      ],
      "source": [
        "set_random_seed()\n",
        "history = defaultdict(list)\n",
        "config = SmallConfig()\n",
        "model = CRNN(config).to(config.device)\n",
        "\n",
        "print(\"model: \\n\", model)\n",
        "\n",
        "opt = torch.optim.Adam(\n",
        "    model.parameters(),\n",
        "    lr=config.learning_rate,\n",
        "    weight_decay=config.weight_decay\n",
        ")\n",
        "teacher_model = torch.jit.load('teacher_model.pt').to(config.device).eval()\n",
        "print(\"teacher model: \\n\", teacher_model)"
      ]
    },
    {
      "cell_type": "code",
      "execution_count": null,
      "metadata": {
        "colab": {
          "base_uri": "https://localhost:8080/"
        },
        "id": "v_SlOftfI98i",
        "outputId": "ad98bdc4-f694-45dc-8c57-e139178f37cf"
      },
      "outputs": [
        {
          "name": "stdout",
          "output_type": "stream",
          "text": [
            " | Elapsed time : 0.0044858456\n",
            "[INFO] Register count_convNd() for <class 'torch.nn.modules.conv.Conv2d'>.\n",
            "[INFO] Register zero_ops() for <class 'torch.nn.modules.container.Sequential'>.\n",
            "[INFO] Register count_gru() for <class 'torch.nn.modules.rnn.GRU'>.\n",
            "[INFO] Register count_linear() for <class 'torch.nn.modules.linear.Linear'>.\n",
            "MAC'c: 573200.0\n",
            "Size of model: 0.04814338684082031\n",
            "\n",
            "Compression_rate: \n",
            "time: 769.5385596598459\n",
            "MACs: 1.578171667829728\n",
            "size in Mb: 2.1270551879877977\n"
          ]
        }
      ],
      "source": [
        "t, macs, size = compute_metrics(model, config.device)\n",
        "print()\n",
        "print(f\"Compression_rate: \")\n",
        "print(f\"time: {teacher_t / t}\")\n",
        "print(f\"MACs: {teacher_macs / macs}\")\n",
        "print(f\"size in Mb: {teacher_size / size}\")"
      ]
    },
    {
      "cell_type": "code",
      "execution_count": null,
      "metadata": {
        "colab": {
          "base_uri": "https://localhost:8080/",
          "height": 296
        },
        "id": "TYXhk0pFuFPO",
        "outputId": "91591978-7fe3-42d0-c836-30996e38102e"
      },
      "outputs": [
        {
          "data": {
            "image/png": "[encoded data removed]",
            "text/plain": [
              "<Figure size 432x288 with 1 Axes>"
            ]
          },
          "metadata": {
            "needs_background": "light"
          },
          "output_type": "display_data"
        },
        {
          "name": "stdout",
          "output_type": "stream",
          "text": [
            "END OF EPOCH 39\n"
          ]
        }
      ],
      "source": [
        "train(model, teacher_model, config, history)"
      ]
    },
    {
      "cell_type": "code",
      "execution_count": null,
      "metadata": {
        "colab": {
          "base_uri": "https://localhost:8080/"
        },
        "id": "WQjsSdj2324F",
        "outputId": "3f70c331-5ccb-4167-e18c-5ffcb0ceda17"
      },
      "outputs": [
        {
          "data": {
            "text/plain": [
              "defaultdict(list,\n",
              "            {'val_metric': [0.001693530328046534,\n",
              "              0.0009316057879840744,\n",
              "              0.0007102694482002697,\n",
              "              0.00040272591605958056,\n",
              "              0.0003636146092129088,\n",
              "              0.00030455677457633774,\n",
              "              0.00025050571236032767,\n",
              "              0.000245224432751035,\n",
              "              0.00021166294515480636,\n",
              "              0.00018899223189412496,\n",
              "              0.00016743446625732273,\n",
              "              0.0001384232336916995,\n",
              "              0.0001311010528096631,\n",
              "              0.00012071155247093021,\n",
              "              0.0001216872465004436,\n",
              "              0.00010075607335965916,\n",
              "              0.00011455901091479371,\n",
              "              0.00010309535201145888,\n",
              "              9.34726815369001e-05,\n",
              "              9.401871214057274e-05,\n",
              "              9.706812895452594e-05,\n",
              "              9.919555966719584e-05,\n",
              "              0.00010864517126190208,\n",
              "              8.62907380230201e-05,\n",
              "              8.143912183956814e-05,\n",
              "              8.338454235101384e-05,\n",
              "              8.144508938714928e-05,\n",
              "              8.305632723405215e-05,\n",
              "              7.246393027756108e-05,\n",
              "              8.143912183956814e-05,\n",
              "              6.939661082086452e-05,\n",
              "              5.2377165119505366e-05,\n",
              "              5.4931275484225465e-05,\n",
              "              6.2605541673548e-05,\n",
              "              5.511626945924023e-05,\n",
              "              5.636348690369467e-05,\n",
              "              4.6946696820684596e-05,\n",
              "              4.635590961015354e-05,\n",
              "              6.968902065233949e-05,\n",
              "              4.9888697778177606e-05]})"
            ]
          },
          "execution_count": 104,
          "metadata": {},
          "output_type": "execute_result"
        }
      ],
      "source": [
        "history"
      ]
    },
    {
      "cell_type": "code",
      "execution_count": null,
      "metadata": {
        "id": "JI6YKuNMRpjC"
      },
      "outputs": [],
      "source": [
        "torch.save(model.state_dict(), \"distilled_model.pth\")"
      ]
    },
    {
      "cell_type": "markdown",
      "metadata": {
        "id": "3P-ZntXgi9qw"
      },
      "source": [
        "# Dark Knowledge Distillation"
      ]
    },
    {
      "cell_type": "markdown",
      "metadata": {
        "id": "kr4BdKbjHN_I"
      },
      "source": [
        "### Experiment with cnn_output_ch"
      ]
    },
    {
      "cell_type": "code",
      "execution_count": null,
      "metadata": {
        "colab": {
          "base_uri": "https://localhost:8080/"
        },
        "id": "8vXf4E2zm5oA",
        "outputId": "c20df2cc-98a6-47e3-cd8f-77baf02ae469"
      },
      "outputs": [
        {
          "name": "stdout",
          "output_type": "stream",
          "text": [
            "Mounted at /content/drive\n"
          ]
        }
      ],
      "source": [
        "from google.colab import drive\n",
        "\n",
        "drive.mount('/content/drive')"
      ]
    },
    {
      "cell_type": "code",
      "execution_count": null,
      "metadata": {
        "colab": {
          "base_uri": "https://localhost:8080/",
          "height": 295
        },
        "id": "WGk8kvPVi8-F",
        "outputId": "567946ee-aa62-46eb-a4e2-61e23dfaeb81"
      },
      "outputs": [
        {
          "data": {
            "image/png": "[encoded data removed]",
            "text/plain": [
              "<Figure size 432x288 with 1 Axes>"
            ]
          },
          "metadata": {
            "needs_background": "light"
          },
          "output_type": "display_data"
        },
        {
          "name": "stdout",
          "output_type": "stream",
          "text": [
            "END OF EPOCH 39\n"
          ]
        }
      ],
      "source": [
        "cnn_ch = [3, 4, 5, 6]\n",
        "ts = []\n",
        "macss = []\n",
        "memory = []\n",
        "val_score = []\n",
        "best_epoch = []\n",
        "\n",
        "for ch in cnn_ch:\n",
        "    print(f\"Channel {ch}\")\n",
        "    set_random_seed()\n",
        "    history = defaultdict(list)\n",
        "    config = SmallConfig(cnn_out_channels=ch)\n",
        "    model = CRNN(config).to(config.device)\n",
        "    opt = torch.optim.Adam(\n",
        "        model.parameters(),\n",
        "        lr=config.learning_rate,\n",
        "        weight_decay=config.weight_decay\n",
        "    )\n",
        "    t, macs, size = compute_metrics(model, config.device)\n",
        "    ts.append(t)\n",
        "    macss.append(macs)\n",
        "    memory.append(size)\n",
        "    train(model, teacher_model, config, history)\n",
        "    val = np.array(history[\"val_metric\"])\n",
        "    val_score.append(val.min())\n",
        "    best_epoch.append(val.argmin())\n",
        "    torch.save(model.state_dict(), f'/content/drive/MyDrive/distill_cnn_{ch}.pth')"
      ]
    },
    {
      "cell_type": "code",
      "execution_count": null,
      "metadata": {
        "colab": {
          "base_uri": "https://localhost:8080/"
        },
        "id": "fCEYL9fYCnxC",
        "outputId": "c3c5ad0b-2443-471c-dab3-f42010ae04f8"
      },
      "outputs": [
        {
          "data": {
            "text/plain": [
              "([0.00012330146812113705,\n",
              "  4.951274228056693e-05,\n",
              "  9.636395833995358e-05,\n",
              "  5.317681649537567e-05],\n",
              " [34, 37, 38, 38])"
            ]
          },
          "execution_count": 189,
          "metadata": {},
          "output_type": "execute_result"
        }
      ],
      "source": [
        "val_score, best_epoch"
      ]
    },
    {
      "cell_type": "code",
      "execution_count": null,
      "metadata": {
        "colab": {
          "base_uri": "https://localhost:8080/",
          "height": 408
        },
        "id": "kUmDXyHU91nu",
        "outputId": "08751dd9-b0a0-4c79-8e7d-8a9faa0d47e4"
      },
      "outputs": [
        {
          "data": {
            "image/png": "[encoded data removed]",
            "text/plain": [
              "<Figure size 1440x432 with 3 Axes>"
            ]
          },
          "metadata": {},
          "output_type": "display_data"
        }
      ],
      "source": [
        "\n",
        "fig, (ax1, ax2, ax3) = plt.subplots(1, 3)\n",
        "fig.set_figheight(6)\n",
        "fig.set_figwidth(20)\n",
        "ax1.plot(cnn_ch, ts)\n",
        "ax1.set_title(\"Time\", fontsize=15)\n",
        "ax1.set_xlabel(\"Number of CNN output channels\", fontsize=13)\n",
        "ax1.set_xticks(cnn_ch)\n",
        "ax2.plot(cnn_ch, macss)\n",
        "ax2.set_title(\"MACs\", fontsize=15)\n",
        "ax2.set_xticks(cnn_ch)\n",
        "ax2.set_xlabel(\"Number of CNN output channels\", fontsize=13)\n",
        "ax3.plot(cnn_ch, memory)\n",
        "ax3.set_title(\"Memory\", fontsize=15)\n",
        "ax3.set_xlabel(\"Number of CNN output channels\", fontsize=13)\n",
        "ax3.set_xticks(cnn_ch)\n",
        "plt.show()"
      ]
    },
    {
      "cell_type": "markdown",
      "metadata": {
        "id": "Rue8BYs8DmaG"
      },
      "source": [
        "3 channels is not enough according to the value-score results. So I'll be using cnn_output_ch=4 for the following experiments."
      ]
    },
    {
      "cell_type": "code",
      "execution_count": null,
      "metadata": {
        "colab": {
          "base_uri": "https://localhost:8080/"
        },
        "id": "y4KsBawiDlop",
        "outputId": "7e4ac6ec-6e9f-4a55-b46b-23be8330c789"
      },
      "outputs": [
        {
          "name": "stdout",
          "output_type": "stream",
          "text": [
            "Compression_rate: \n",
            "time: 2.1906939749453174\n",
            "MACs: 2.9347521411886843\n",
            "size in Mb: 3.3978229225998353\n"
          ]
        }
      ],
      "source": [
        "print(f\"Compression_rate: \")\n",
        "print(f\"time: {teacher_t / ts[1]}\")\n",
        "print(f\"MACs: {teacher_macs / macss[1]}\")\n",
        "print(f\"size in Mb: {teacher_size / memory[1]}\")"
      ]
    },
    {
      "cell_type": "markdown",
      "metadata": {
        "id": "DKWJtWxNHy4r"
      },
      "source": [
        "### Experiment with hidden_size of gru"
      ]
    },
    {
      "cell_type": "code",
      "execution_count": null,
      "metadata": {
        "colab": {
          "base_uri": "https://localhost:8080/",
          "height": 295
        },
        "id": "AbSbZ9r9HyM3",
        "outputId": "8797f39b-d95b-4476-9f9c-cf72ec69abe3"
      },
      "outputs": [
        {
          "data": {
            "image/png": "[encoded data removed]",
            "text/plain": [
              "<Figure size 432x288 with 1 Axes>"
            ]
          },
          "metadata": {
            "needs_background": "light"
          },
          "output_type": "display_data"
        },
        {
          "name": "stdout",
          "output_type": "stream",
          "text": [
            "END OF EPOCH 39\n"
          ]
        }
      ],
      "source": [
        "hidden = [5, 10, 15]\n",
        "ts = []\n",
        "macss = []\n",
        "memory = []\n",
        "val_score = []\n",
        "best_epoch = []\n",
        "\n",
        "for h in hidden:\n",
        "    print(f\"Hidden size {h}\")\n",
        "    set_random_seed()\n",
        "    history = defaultdict(list)\n",
        "    config = SmallConfig(cnn_out_channels=4, hidden_size=h)\n",
        "    model = CRNN(config).to(config.device)\n",
        "    opt = torch.optim.Adam(\n",
        "        model.parameters(),\n",
        "        lr=config.learning_rate,\n",
        "        weight_decay=config.weight_decay\n",
        "    )\n",
        "    t, macs, size = compute_metrics(model, config.device)\n",
        "    ts.append(t)\n",
        "    macss.append(macs)\n",
        "    memory.append(size)\n",
        "    train(model, teacher_model, config, history)\n",
        "    val = np.array(history[\"val_metric\"])\n",
        "    val_score.append(val.min())\n",
        "    best_epoch.append(val.argmin())\n",
        "    torch.save(model.state_dict(), f'/content/drive/MyDrive/distill_hidden_{h}.pth')"
      ]
    },
    {
      "cell_type": "code",
      "execution_count": null,
      "metadata": {
        "colab": {
          "base_uri": "https://localhost:8080/"
        },
        "id": "-Hmm9T2SI8Yf",
        "outputId": "1b87c3da-d031-4ced-87af-693759907550"
      },
      "outputs": [
        {
          "data": {
            "text/plain": [
              "([0.000248560291848882, 0.00010940304980470455, 2.8805352174074557e-05],\n",
              " [39, 39, 39])"
            ]
          },
          "execution_count": 44,
          "metadata": {},
          "output_type": "execute_result"
        }
      ],
      "source": [
        "val_score, best_epoch"
      ]
    },
    {
      "cell_type": "markdown",
      "metadata": {
        "id": "ER0naVkVVrpN"
      },
      "source": [
        "We see that small models can't achieve necessary metric on val dataset."
      ]
    },
    {
      "cell_type": "code",
      "execution_count": null,
      "metadata": {
        "colab": {
          "base_uri": "https://localhost:8080/",
          "height": 408
        },
        "id": "ACq6koU-JAPS",
        "outputId": "836e8eee-c34c-43ec-dfb1-b42083088eb1"
      },
      "outputs": [
        {
          "data": {
            "image/png": "[encoded data removed]",
            "text/plain": [
              "<Figure size 1440x432 with 3 Axes>"
            ]
          },
          "metadata": {
            "needs_background": "light"
          },
          "output_type": "display_data"
        }
      ],
      "source": [
        "fig, (ax1, ax2, ax3) = plt.subplots(1, 3)\n",
        "fig.set_figheight(6)\n",
        "fig.set_figwidth(20)\n",
        "ax1.plot(hidden, ts)\n",
        "ax1.set_title(\"Time\", fontsize=15)\n",
        "ax1.set_xlabel(\"hidden_size\", fontsize=13)\n",
        "ax1.set_xticks(hidden)\n",
        "ax2.plot(hidden, macss)\n",
        "ax2.set_title(\"MACs\", fontsize=15)\n",
        "ax2.set_xticks(hidden)\n",
        "ax2.set_xlabel(\"hidden_size\", fontsize=13)\n",
        "ax3.plot(hidden, memory)\n",
        "ax3.set_title(\"Memory\", fontsize=15)\n",
        "ax3.set_xlabel(\"hidden_size\", fontsize=13)\n",
        "ax3.set_xticks(hidden)\n",
        "plt.show()"
      ]
    },
    {
      "cell_type": "markdown",
      "metadata": {
        "id": "Os8m0uJ9t2Ns"
      },
      "source": [
        "I misclicked on the cell below, but I saved the resulting model, so I computed compression rate according to it."
      ]
    },
    {
      "cell_type": "code",
      "execution_count": null,
      "metadata": {
        "colab": {
          "base_uri": "https://localhost:8080/"
        },
        "id": "F_PUTayoKpbB",
        "outputId": "c2e50765-560c-4fd8-fc79-3061fc53f0be"
      },
      "outputs": [
        {
          "name": "stderr",
          "output_type": "stream",
          "text": [
            "/usr/local/lib/python3.7/dist-packages/torch/nn/modules/rnn.py:65: UserWarning: dropout option adds dropout after all but last recurrent layer, so non-zero dropout expects num_layers greater than 1, but got dropout=0.1 and num_layers=1\n",
            "  \"num_layers={}\".format(dropout, num_layers))\n"
          ]
        },
        {
          "data": {
            "text/plain": [
              "_IncompatibleKeys(missing_keys=[], unexpected_keys=['total_ops', 'total_params', 'conv.1.total_ops', 'conv.1.total_params', 'attention.total_ops', 'attention.total_params', 'attention.energy.1.total_ops', 'attention.energy.1.total_params'])"
            ]
          },
          "execution_count": 42,
          "metadata": {},
          "output_type": "execute_result"
        }
      ],
      "source": [
        "config = SmallConfig(cnn_out_channels=4, hidden_size=15)\n",
        "model = CRNN(config).to(config.device)\n",
        "model.load_state_dict(torch.load('/content/drive/MyDrive/distill_hidden_15.pth'), strict=False)"
      ]
    },
    {
      "cell_type": "code",
      "execution_count": null,
      "metadata": {
        "colab": {
          "base_uri": "https://localhost:8080/"
        },
        "id": "BkQu6-Q9tz2v",
        "outputId": "f4bd9430-cb5f-4f2a-84c2-db75f202e93c"
      },
      "outputs": [
        {
          "name": "stderr",
          "output_type": "stream",
          "text": [
            "102it [00:06, 16.84it/s]\n"
          ]
        },
        {
          "data": {
            "text/plain": [
              "2.8805352174074557e-05"
            ]
          },
          "execution_count": 43,
          "metadata": {},
          "output_type": "execute_result"
        }
      ],
      "source": [
        "validation(model, val_loader, melspec_val, config.device)"
      ]
    },
    {
      "cell_type": "code",
      "execution_count": null,
      "metadata": {
        "colab": {
          "base_uri": "https://localhost:8080/"
        },
        "id": "ZBpvruLzLEzZ",
        "outputId": "b9931749-98b8-4755-8676-c5c82f1cbad0"
      },
      "outputs": [
        {
          "name": "stdout",
          "output_type": "stream",
          "text": [
            " | Elapsed time : 0.0010890961\n",
            "[INFO] Register count_convNd() for <class 'torch.nn.modules.conv.Conv2d'>.\n",
            "[INFO] Register zero_ops() for <class 'torch.nn.modules.container.Sequential'>.\n",
            "[INFO] Register count_gru() for <class 'torch.nn.modules.rnn.GRU'>.\n",
            "[INFO] Register count_linear() for <class 'torch.nn.modules.linear.Linear'>.\n",
            "MAC'c: 265680.0\n",
            "Size of model: 0.023057937622070312\n",
            "\n",
            "Compression_rate: \n",
            "time: 2.2791155866900175\n",
            "MACs: 3.4048780487804877\n",
            "size in Mb: 4.441144842418728\n",
            "number of parameters:  5.40493932297211\n"
          ]
        }
      ],
      "source": [
        "t, macs, size = compute_metrics(model, config.device)\n",
        "print()\n",
        "print(f\"Compression_rate: \")\n",
        "print(f\"time: {teacher_t / t}\")\n",
        "print(f\"MACs: {teacher_macs / macs}\")\n",
        "print(f\"size in Mb: {teacher_size / size}\")\n",
        "print(f\"number of parameters:  {sum([p.numel() for p in teacher_model.parameters()]) / sum([p.numel() for p in model.parameters()])}\")"
      ]
    },
    {
      "cell_type": "markdown",
      "metadata": {
        "id": "uvJOuPAnQsIw"
      },
      "source": [
        "# Attention Distillation"
      ]
    },
    {
      "cell_type": "code",
      "execution_count": 7,
      "metadata": {
        "id": "Vs1w_3JIN4ON"
      },
      "outputs": [],
      "source": [
        "class AttentionDistilled(nn.Module):\n",
        "\n",
        "    def __init__(self, input_size: int, hidden_size: int):\n",
        "        super().__init__()\n",
        "\n",
        "        self.energy = nn.Sequential(\n",
        "            nn.Linear(input_size, hidden_size),\n",
        "            nn.Tanh(),\n",
        "            nn.Linear(hidden_size, 1)\n",
        "        )\n",
        "    \n",
        "    def forward(self, input):\n",
        "        energy = self.energy(input)\n",
        "        alpha = torch.softmax(energy, dim=-2)\n",
        "        return (input * alpha).sum(dim=-2)\n",
        "\n",
        "class CRNNSmall(nn.Module):\n",
        "\n",
        "    def __init__(self, config: TaskConfig):\n",
        "        super().__init__()\n",
        "        self.config = config\n",
        "\n",
        "        self.conv = nn.Sequential(\n",
        "            nn.Conv2d(\n",
        "                in_channels=1, out_channels=config.cnn_out_channels,\n",
        "                kernel_size=config.kernel_size, stride=config.stride\n",
        "            ),\n",
        "            nn.Flatten(start_dim=1, end_dim=2),\n",
        "        )\n",
        "\n",
        "        self.conv_out_frequency = (config.n_mels - config.kernel_size[0]) // \\\n",
        "            config.stride[0] + 1\n",
        "        \n",
        "        self.gru = nn.GRU(\n",
        "            input_size=self.conv_out_frequency * config.cnn_out_channels,\n",
        "            hidden_size=config.hidden_size,\n",
        "            num_layers=config.gru_num_layers,\n",
        "            dropout=0.1,\n",
        "            bidirectional=config.bidirectional,\n",
        "            batch_first=True\n",
        "        )\n",
        "\n",
        "        self.attention = AttentionDistilled(config.hidden_size, config.attention_dim)\n",
        "        self.classifier = nn.Linear(config.hidden_size, config.num_classes)\n",
        "    \n",
        "    def forward(self, input):\n",
        "        input = input.unsqueeze(dim=1)\n",
        "        conv_output = self.conv(input).transpose(-1, -2)\n",
        "        gru_output, _ = self.gru(conv_output)\n",
        "        contex_vector = self.attention(gru_output)\n",
        "        output = self.classifier(contex_vector)\n",
        "        return output\n"
      ]
    },
    {
      "cell_type": "code",
      "execution_count": null,
      "metadata": {
        "colab": {
          "base_uri": "https://localhost:8080/",
          "height": 410
        },
        "id": "rRNQ0eREWOfe",
        "outputId": "54df79c1-e9ad-4895-f4fb-00e6c496a619"
      },
      "outputs": [
        {
          "data": {
            "image/png": "[encoded data removed]",
            "text/plain": [
              "<Figure size 432x288 with 1 Axes>"
            ]
          },
          "metadata": {
            "needs_background": "light"
          },
          "output_type": "display_data"
        },
        {
          "name": "stdout",
          "output_type": "stream",
          "text": [
            "END OF EPOCH 24\n",
            " | Elapsed time : 0.0012919903\n",
            "[INFO] Register count_convNd() for <class 'torch.nn.modules.conv.Conv2d'>.\n",
            "[INFO] Register zero_ops() for <class 'torch.nn.modules.container.Sequential'>.\n",
            "[INFO] Register count_gru() for <class 'torch.nn.modules.rnn.GRU'>.\n",
            "[INFO] Register count_linear() for <class 'torch.nn.modules.linear.Linear'>.\n",
            "MAC'c: 264576.0\n",
            "Size of model: 0.022874832153320312\n"
          ]
        }
      ],
      "source": [
        "att_dim = [5, 8, 10, 12]\n",
        "ts = []\n",
        "macss = []\n",
        "memory = []\n",
        "val_score = []\n",
        "best_epoch = []\n",
        "\n",
        "for att in att_dim:\n",
        "    print(f\"Attention size {att}\")\n",
        "    set_random_seed()\n",
        "    history = defaultdict(list)\n",
        "    config = SmallConfig(cnn_out_channels=4, hidden_size=15, attention_dim=att, num_epochs=25)\n",
        "    model = CRNNSmall(config).to(config.device)\n",
        "    opt = torch.optim.Adam(\n",
        "        model.parameters(),\n",
        "        lr=config.learning_rate,\n",
        "        weight_decay=config.weight_decay\n",
        "    )\n",
        "    train(model, teacher_model, config, history)\n",
        "    t, macs, size = compute_metrics(model, config.device)\n",
        "    ts.append(t)\n",
        "    macss.append(macs)\n",
        "    memory.append(size)\n",
        "    val = np.array(history[\"val_metric\"])\n",
        "    val_score.append(val.min())\n",
        "    best_epoch.append(val.argmin())\n",
        "    torch.save(model.state_dict(), f'/content/drive/MyDrive/distill_att_{att}.pth')\n",
        "    if val_score[-1] < 5.5e-5:\n",
        "        break"
      ]
    },
    {
      "cell_type": "code",
      "execution_count": null,
      "metadata": {
        "colab": {
          "base_uri": "https://localhost:8080/"
        },
        "id": "FaTea_2-ry63",
        "outputId": "854a19d2-1b0b-4add-af48-016ef1a6237b"
      },
      "outputs": [
        {
          "data": {
            "text/plain": [
              "([0.00010740392136502876,\n",
              "  0.00010779181195780168,\n",
              "  0.00010104848319113412,\n",
              "  6.399001271236823e-05],\n",
              " [24, 21, 20, 24])"
            ]
          },
          "execution_count": 68,
          "metadata": {},
          "output_type": "execute_result"
        }
      ],
      "source": [
        "val_score, best_epoch"
      ]
    },
    {
      "cell_type": "code",
      "execution_count": null,
      "metadata": {
        "colab": {
          "base_uri": "https://localhost:8080/",
          "height": 408
        },
        "id": "Pa_raGlba5xY",
        "outputId": "176dd0d3-13a9-4875-969e-7e331112d97c"
      },
      "outputs": [
        {
          "data": {
            "image/png": "[encoded data removed]",
            "text/plain": [
              "<Figure size 1440x432 with 3 Axes>"
            ]
          },
          "metadata": {
            "needs_background": "light"
          },
          "output_type": "display_data"
        }
      ],
      "source": [
        "fig, (ax1, ax2, ax3) = plt.subplots(1, 3)\n",
        "fig.set_figheight(6)\n",
        "fig.set_figwidth(20)\n",
        "ax1.plot(att_dim[:len(ts)], ts)\n",
        "ax1.set_title(\"Time\", fontsize=15)\n",
        "ax1.set_xlabel(\"hidden_size\", fontsize=13)\n",
        "ax1.set_xticks(att_dim[:len(ts)])\n",
        "ax2.plot(att_dim[:len(macss)], macss)\n",
        "ax2.set_title(\"MACs\", fontsize=15)\n",
        "ax2.set_xticks(att_dim[:len(macss)])\n",
        "ax2.set_xlabel(\"hidden_size\", fontsize=13)\n",
        "ax3.plot(att_dim[:len(memory)], memory)\n",
        "ax3.set_title(\"Memory\", fontsize=15)\n",
        "ax3.set_xlabel(\"hidden_size\", fontsize=13)\n",
        "ax3.set_xticks(att_dim[:len(memory)])\n",
        "plt.show()"
      ]
    },
    {
      "cell_type": "markdown",
      "metadata": {
        "id": "kYHcrbMIsEls"
      },
      "source": [
        "Let's try to teach the biggest model for more epochs."
      ]
    },
    {
      "cell_type": "code",
      "execution_count": null,
      "metadata": {
        "colab": {
          "base_uri": "https://localhost:8080/",
          "height": 410
        },
        "id": "laT_2N27sLph",
        "outputId": "cc3a7efc-011b-40bf-98ae-85aab9f68651"
      },
      "outputs": [
        {
          "data": {
            "image/png": "[encoded data removed]",
            "text/plain": [
              "<Figure size 432x288 with 1 Axes>"
            ]
          },
          "metadata": {
            "needs_background": "light"
          },
          "output_type": "display_data"
        },
        {
          "name": "stdout",
          "output_type": "stream",
          "text": [
            "END OF EPOCH 39\n",
            " | Elapsed time : 0.0012826920\n",
            "[INFO] Register count_convNd() for <class 'torch.nn.modules.conv.Conv2d'>.\n",
            "[INFO] Register zero_ops() for <class 'torch.nn.modules.container.Sequential'>.\n",
            "[INFO] Register count_gru() for <class 'torch.nn.modules.rnn.GRU'>.\n",
            "[INFO] Register count_linear() for <class 'torch.nn.modules.linear.Linear'>.\n",
            "MAC'c: 264576.0\n",
            "Size of model: 0.022874832153320312\n"
          ]
        }
      ],
      "source": [
        "history = defaultdict(list)\n",
        "config = SmallConfig(cnn_out_channels=4, hidden_size=15, attention_dim=12)\n",
        "model = CRNNSmall(config).to(config.device)\n",
        "opt = torch.optim.Adam(\n",
        "    model.parameters(),\n",
        "    lr=config.learning_rate,\n",
        "    weight_decay=config.weight_decay\n",
        ")\n",
        "train(model, teacher_model, config, history)\n",
        "t, macs, size = compute_metrics(model, config.device)\n",
        "ts.append(t)\n",
        "macss.append(macs)\n",
        "memory.append(size)\n",
        "val = np.array(history[\"val_metric\"])\n",
        "val_score.append(val.min())\n",
        "best_epoch.append(val.argmin())\n",
        "torch.save(model.state_dict(), f'/content/drive/MyDrive/distill_att_{att}.pth')"
      ]
    },
    {
      "cell_type": "code",
      "execution_count": null,
      "metadata": {
        "colab": {
          "base_uri": "https://localhost:8080/"
        },
        "id": "QBVKQMqv0t-6",
        "outputId": "582181f3-3bc9-4bc9-e31a-d5a41d1b57c6"
      },
      "outputs": [
        {
          "data": {
            "text/plain": [
              "array([1.19578912e-03, 8.21698480e-04, 7.12393895e-04, 4.39453188e-04,\n",
              "       4.33488624e-04, 3.63948792e-04, 3.28104717e-04, 3.27355790e-04,\n",
              "       2.79454286e-04, 2.29177697e-04, 2.62211057e-04, 2.24224633e-04,\n",
              "       2.17367921e-04, 1.94303349e-04, 1.66840695e-04, 1.69761810e-04,\n",
              "       1.50346394e-04, 1.27433995e-04, 1.26028637e-04, 1.23402916e-04,\n",
              "       1.13699684e-04, 9.64713742e-05, 9.63758934e-05, 1.00153351e-04,\n",
              "       9.57313983e-05, 8.93073333e-05, 9.34100223e-05, 9.15183097e-05,\n",
              "       8.75439230e-05, 7.79272201e-05, 6.27368277e-05, 6.93608055e-05,\n",
              "       7.50269920e-05, 6.20565273e-05, 6.78510160e-05, 6.39959803e-05,\n",
              "       6.54938347e-05, 5.82432644e-05, 5.66320265e-05, 5.26874776e-05])"
            ]
          },
          "execution_count": 72,
          "metadata": {},
          "output_type": "execute_result"
        }
      ],
      "source": [
        "val"
      ]
    },
    {
      "cell_type": "code",
      "execution_count": null,
      "metadata": {
        "colab": {
          "base_uri": "https://localhost:8080/"
        },
        "id": "9DV_p8eb0yZb",
        "outputId": "0b763bb4-ee0f-4df9-b125-95d384a2eb5a"
      },
      "outputs": [
        {
          "name": "stdout",
          "output_type": "stream",
          "text": [
            " | Elapsed time : 0.0015165806\n",
            "[INFO] Register count_convNd() for <class 'torch.nn.modules.conv.Conv2d'>.\n",
            "[INFO] Register zero_ops() for <class 'torch.nn.modules.container.Sequential'>.\n",
            "[INFO] Register count_gru() for <class 'torch.nn.modules.rnn.GRU'>.\n",
            "[INFO] Register count_linear() for <class 'torch.nn.modules.linear.Linear'>.\n",
            "MAC'c: 264576.0\n",
            "Size of model: 0.022874832153320312\n",
            "\n",
            "Compression_rate: \n",
            "MACs: 3.419085631349782\n",
            "size in Mb: 4.476694738597515\n",
            "number of parameters:  5.464270340077486\n"
          ]
        }
      ],
      "source": [
        "t, macs, size = compute_metrics(model, config.device)\n",
        "print()\n",
        "print(f\"Compression_rate: \")\n",
        "print(f\"MACs: {teacher_macs / macs}\")\n",
        "print(f\"size in Mb: {teacher_size / size}\")\n",
        "print(f\"number of parameters:  {sum([p.numel() for p in teacher_model.parameters()]) / sum([p.numel() for p in model.parameters()])}\")"
      ]
    },
    {
      "cell_type": "markdown",
      "metadata": {
        "id": "t4jRh19a2vy6"
      },
      "source": [
        "The last validation score is 5.2e-5 so this model is acceptable."
      ]
    },
    {
      "cell_type": "markdown",
      "metadata": {
        "id": "de3efz6k2HBC"
      },
      "source": [
        "# GRU to RNN"
      ]
    },
    {
      "cell_type": "code",
      "execution_count": null,
      "metadata": {
        "id": "zU0RrXS_2GNI"
      },
      "outputs": [],
      "source": [
        "class CRNNSmallRNN(nn.Module):\n",
        "\n",
        "    def __init__(self, config: TaskConfig):\n",
        "        super().__init__()\n",
        "        self.config = config\n",
        "\n",
        "        self.conv = nn.Sequential(\n",
        "            nn.Conv2d(\n",
        "                in_channels=1, out_channels=config.cnn_out_channels,\n",
        "                kernel_size=config.kernel_size, stride=config.stride\n",
        "            ),\n",
        "            nn.Flatten(start_dim=1, end_dim=2),\n",
        "        )\n",
        "\n",
        "        self.conv_out_frequency = (config.n_mels - config.kernel_size[0]) // \\\n",
        "            config.stride[0] + 1\n",
        "        \n",
        "        self.gru = nn.RNN(\n",
        "            input_size=self.conv_out_frequency * config.cnn_out_channels,\n",
        "            hidden_size=config.hidden_size,\n",
        "            num_layers=config.gru_num_layers,\n",
        "            dropout=0.1,\n",
        "            bidirectional=config.bidirectional,\n",
        "            batch_first=True\n",
        "        )\n",
        "\n",
        "        self.attention = AttentionDistilled(config.hidden_size, config.attention_dim)\n",
        "        self.classifier = nn.Linear(config.hidden_size, config.num_classes)\n",
        "    \n",
        "    def forward(self, input):\n",
        "        input = input.unsqueeze(dim=1)\n",
        "        conv_output = self.conv(input).transpose(-1, -2)\n",
        "        gru_output, _ = self.gru(conv_output)\n",
        "        contex_vector = self.attention(gru_output)\n",
        "        output = self.classifier(contex_vector)\n",
        "        return output"
      ]
    },
    {
      "cell_type": "code",
      "execution_count": null,
      "metadata": {
        "colab": {
          "base_uri": "https://localhost:8080/",
          "height": 295
        },
        "id": "Z1HfQkyW2TYO",
        "outputId": "1006a320-50f1-4e85-cb94-fbe55ee3edeb"
      },
      "outputs": [
        {
          "data": {
            "image/png": "[encoded data removed]",
            "text/plain": [
              "<Figure size 432x288 with 1 Axes>"
            ]
          },
          "metadata": {
            "needs_background": "light"
          },
          "output_type": "display_data"
        },
        {
          "name": "stdout",
          "output_type": "stream",
          "text": [
            "END OF EPOCH 39\n"
          ]
        }
      ],
      "source": [
        "history = defaultdict(list)\n",
        "config = SmallConfig(cnn_out_channels=4, hidden_size=15, attention_dim=12)\n",
        "model = CRNNSmallRNN(config).to(config.device)\n",
        "opt = torch.optim.Adam(\n",
        "    model.parameters(),\n",
        "    lr=config.learning_rate,\n",
        "    weight_decay=config.weight_decay\n",
        ")\n",
        "train(model, teacher_model, config, history)"
      ]
    },
    {
      "cell_type": "code",
      "execution_count": null,
      "metadata": {
        "colab": {
          "base_uri": "https://localhost:8080/"
        },
        "id": "rJZ7zvg9AhsM",
        "outputId": "6fb63bbd-663d-41f9-92f6-fe3c51afdc06"
      },
      "outputs": [
        {
          "data": {
            "text/plain": [
              "defaultdict(list,\n",
              "            {'val_metric': [0.0025680296694530636,\n",
              "              0.001172808093665433,\n",
              "              0.000617575531622706,\n",
              "              0.0006734556471723298,\n",
              "              0.0006011588082270401,\n",
              "              0.0005654579548229793,\n",
              "              0.0004323130169667821,\n",
              "              0.00045379618825882033,\n",
              "              0.00045501356796536917,\n",
              "              0.00040641982801229495,\n",
              "              0.0003459626034679508,\n",
              "              0.00037779946981323514,\n",
              "              0.00032653226854381846,\n",
              "              0.0003169961275091859,\n",
              "              0.0002808566593579128,\n",
              "              0.0002703299054248141,\n",
              "              0.0002415812449527601,\n",
              "              0.00024271209521938272,\n",
              "              0.00024015201730708154,\n",
              "              0.00028404929731381287,\n",
              "              0.0002591586563529542,\n",
              "              0.0002703358729723952,\n",
              "              0.00025748774303024013,\n",
              "              0.0002339218976323904,\n",
              "              0.00026408785065496073,\n",
              "              0.00024497379575262785,\n",
              "              0.00025911091597230517,\n",
              "              0.00023707873030280382,\n",
              "              0.00021450946535100148,\n",
              "              0.00022422463281306763,\n",
              "              0.000183672163225555,\n",
              "              0.00019353055182956807,\n",
              "              0.00020593409947692955,\n",
              "              0.00021668165267052974,\n",
              "              0.00018696326571654355,\n",
              "              0.0002112810221096146,\n",
              "              0.00017695568842300246,\n",
              "              0.00020821967020049915,\n",
              "              0.0001865276347431217,\n",
              "              0.0001753354992547279]})"
            ]
          },
          "execution_count": 67,
          "metadata": {},
          "output_type": "execute_result"
        }
      ],
      "source": [
        "history"
      ]
    },
    {
      "cell_type": "code",
      "execution_count": null,
      "metadata": {
        "colab": {
          "base_uri": "https://localhost:8080/"
        },
        "id": "zl3fi66H2rDE",
        "outputId": "8e4e0bc3-194c-41d1-ec7c-f35480f7322a"
      },
      "outputs": [
        {
          "name": "stdout",
          "output_type": "stream",
          "text": [
            " | Elapsed time : 0.0013840199\n",
            "[INFO] Register count_convNd() for <class 'torch.nn.modules.conv.Conv2d'>.\n",
            "[INFO] Register zero_ops() for <class 'torch.nn.modules.container.Sequential'>.\n",
            "[INFO] Register count_rnn() for <class 'torch.nn.modules.rnn.RNN'>.\n",
            "[INFO] Register count_linear() for <class 'torch.nn.modules.linear.Linear'>.\n",
            "MAC'c: 201096.0\n",
            "Size of model: 0.012681961059570312\n",
            "\n",
            "Compression_rate: \n",
            "MACs: 4.498388829215897\n",
            "size in Mb: 8.07474808241841\n",
            "number of parameters:  12.847672064777328\n"
          ]
        }
      ],
      "source": [
        "t, macs, size = compute_metrics(model, config.device)\n",
        "print()\n",
        "print(f\"Compression_rate: \")\n",
        "print(f\"MACs: {teacher_macs / macs}\")\n",
        "print(f\"size in Mb: {teacher_size / size}\")\n",
        "print(f\"number of parameters:  {sum([p.numel() for p in teacher_model.parameters()]) / sum([p.numel() for p in model.parameters()])}\")"
      ]
    },
    {
      "cell_type": "markdown",
      "metadata": {
        "id": "mychkDhSZSBM"
      },
      "source": [
        "# Half Quantisation "
      ]
    },
    {
      "cell_type": "code",
      "execution_count": null,
      "metadata": {
        "id": "aSDnOq5gA4YI"
      },
      "outputs": [],
      "source": [
        "def compute_metrics_quant(model, device):\n",
        "    # making 2 second recording for test\n",
        "    batch = next(iter(train_loader))[0][:2, :]\n",
        "    melspec_train.to(device)\n",
        "    long_wav = melspec_train(torch.cat([batch[0, :], batch[1, :]]).unsqueeze(0).to(device)).half()\n",
        "    with Timer(\"\", verbose=True) as t:\n",
        "        with torch.no_grad():\n",
        "            _ = model(long_wav)\n",
        "    time = t.t\n",
        "    macs, params = profile(model, (long_wav, ))\n",
        "    print(f\"MAC'c: {macs}\")\n",
        "    size = get_size_in_megabytes(model)\n",
        "    print(f\"Size of model: {size}\")\n",
        "    return time, macs, size"
      ]
    },
    {
      "cell_type": "code",
      "execution_count": null,
      "metadata": {
        "colab": {
          "base_uri": "https://localhost:8080/"
        },
        "id": "H-xXLjnYAalb",
        "outputId": "046c5e1c-3233-481a-b7d6-098bd2f802ca"
      },
      "outputs": [
        {
          "name": "stderr",
          "output_type": "stream",
          "text": [
            "/usr/local/lib/python3.7/dist-packages/torch/nn/modules/rnn.py:65: UserWarning: dropout option adds dropout after all but last recurrent layer, so non-zero dropout expects num_layers greater than 1, but got dropout=0.1 and num_layers=1\n",
            "  \"num_layers={}\".format(dropout, num_layers))\n"
          ]
        }
      ],
      "source": [
        "config = SmallConfig(cnn_out_channels=4, hidden_size=15, attention_dim=12)\n",
        "model = CRNNSmall(config).to(config.device)\n",
        "model.load_state_dict(torch.load('/content/drive/MyDrive/distill_att_12.pth'), strict=False)\n",
        "model = model.half()"
      ]
    },
    {
      "cell_type": "code",
      "execution_count": null,
      "metadata": {
        "colab": {
          "base_uri": "https://localhost:8080/"
        },
        "id": "jpsvw7unA9EL",
        "outputId": "86672d8c-c00e-4109-aadc-8b7628bd6041"
      },
      "outputs": [
        {
          "name": "stdout",
          "output_type": "stream",
          "text": [
            " | Elapsed time : 0.0987186432\n",
            "[INFO] Register count_convNd() for <class 'torch.nn.modules.conv.Conv2d'>.\n",
            "[INFO] Register zero_ops() for <class 'torch.nn.modules.container.Sequential'>.\n",
            "[INFO] Register count_gru() for <class 'torch.nn.modules.rnn.GRU'>.\n",
            "[INFO] Register count_linear() for <class 'torch.nn.modules.linear.Linear'>.\n",
            "MAC'c: 264576.0\n",
            "Size of model: 0.014085769653320312\n",
            "\n",
            "Compression_rate: \n",
            "MACs: 3.419085631349782\n",
            "size in Mb: 7.2700067704807045\n",
            "number of parameters:  5.464270340077486\n"
          ]
        }
      ],
      "source": [
        "t, macs, size = compute_metrics_quant(model, config.device)\n",
        "print()\n",
        "print(f\"Compression_rate: \")\n",
        "print(f\"MACs: {teacher_macs / macs}\")\n",
        "print(f\"size in Mb: {teacher_size / size}\")\n",
        "print(f\"number of parameters:  {sum([p.numel() for p in teacher_model.parameters()]) / sum([p.numel() for p in model.parameters()])}\")"
      ]
    },
    {
      "cell_type": "code",
      "execution_count": null,
      "metadata": {
        "colab": {
          "base_uri": "https://localhost:8080/"
        },
        "id": "XkBMYciyDJ8X",
        "outputId": "4a188c95-c6e4-493d-c163-0a53e13310fd"
      },
      "outputs": [
        {
          "name": "stderr",
          "output_type": "stream",
          "text": [
            "/usr/local/lib/python3.7/dist-packages/torch/nn/modules/rnn.py:65: UserWarning: dropout option adds dropout after all but last recurrent layer, so non-zero dropout expects num_layers greater than 1, but got dropout=0.1 and num_layers=1\n",
            "  \"num_layers={}\".format(dropout, num_layers))\n"
          ]
        }
      ],
      "source": [
        "config = SmallConfig(cnn_out_channels=4, hidden_size=15, attention_dim=15)\n",
        "model = CRNNSmall(config).to(config.device)\n",
        "model.load_state_dict(torch.load('/content/drive/MyDrive/distill_hidden_15.pth'), strict=False)\n",
        "model = model.half()"
      ]
    },
    {
      "cell_type": "code",
      "execution_count": null,
      "metadata": {
        "colab": {
          "base_uri": "https://localhost:8080/"
        },
        "id": "MUSk2L2fDilK",
        "outputId": "d8ee5267-45af-4abc-9cdd-3b95da31aa3e"
      },
      "outputs": [
        {
          "name": "stdout",
          "output_type": "stream",
          "text": [
            " | Elapsed time : 0.0020258427\n",
            "[INFO] Register count_convNd() for <class 'torch.nn.modules.conv.Conv2d'>.\n",
            "[INFO] Register zero_ops() for <class 'torch.nn.modules.container.Sequential'>.\n",
            "[INFO] Register count_gru() for <class 'torch.nn.modules.rnn.GRU'>.\n",
            "[INFO] Register count_linear() for <class 'torch.nn.modules.linear.Linear'>.\n",
            "MAC'c: 265680.0\n",
            "Size of model: 0.014207839965820312\n",
            "\n",
            "Compression_rate: \n",
            "MACs: 3.4048780487804877\n",
            "size in Mb: 7.207544636864009\n",
            "number of parameters:  5.40493932297211\n"
          ]
        }
      ],
      "source": [
        "t, macs, size = compute_metrics_quant(model, config.device)\n",
        "print()\n",
        "print(f\"Compression_rate: \")\n",
        "print(f\"MACs: {teacher_macs / macs}\")\n",
        "print(f\"size in Mb: {teacher_size / size}\")\n",
        "print(f\"number of parameters:  {sum([p.numel() for p in teacher_model.parameters()]) / sum([p.numel() for p in model.parameters()])}\")"
      ]
    },
    {
      "cell_type": "markdown",
      "metadata": {
        "id": "dpjdADxMCDjl"
      },
      "source": [
        "A lot of improvement in memory"
      ]
    },
    {
      "cell_type": "markdown",
      "metadata": {
        "id": "0AZR8g1cCaTz"
      },
      "source": [
        "# LSTM instead of GRU\n",
        "\n",
        "We have a good model(/distill_hidden_15.pth). Now we are going to change the GRU to LSTM and add distillation loss to layer outputs."
      ]
    },
    {
      "cell_type": "code",
      "execution_count": null,
      "metadata": {
        "id": "c8jFih7DD4ZC"
      },
      "outputs": [],
      "source": [
        "class CRNNSmall(nn.Module):\n",
        "\n",
        "    def __init__(self, config: SmallConfig, rnn_type=nn.GRU):\n",
        "        super().__init__()\n",
        "        self.config = config\n",
        "\n",
        "        self.conv = nn.Sequential(\n",
        "            nn.Conv2d(\n",
        "                in_channels=1, out_channels=config.cnn_out_channels,\n",
        "                kernel_size=config.kernel_size, stride=config.stride\n",
        "            ),\n",
        "            nn.Flatten(start_dim=1, end_dim=2),\n",
        "        )\n",
        "\n",
        "        self.conv_out_frequency = (config.n_mels - config.kernel_size[0]) // \\\n",
        "            config.stride[0] + 1\n",
        "        \n",
        "        self.gru = rnn_type(\n",
        "            input_size=self.conv_out_frequency * config.cnn_out_channels,\n",
        "            hidden_size=config.hidden_size,\n",
        "            num_layers=config.gru_num_layers,\n",
        "            dropout=0.1,\n",
        "            bidirectional=config.bidirectional,\n",
        "            batch_first=True\n",
        "        )\n",
        "\n",
        "        self.attention = AttentionDistilled(config.hidden_size, config.attention_dim)\n",
        "        self.classifier = nn.Linear(config.hidden_size, config.num_classes)\n",
        "    \n",
        "    def forward(self, input, return_layers=False):\n",
        "        input = input.unsqueeze(dim=1)\n",
        "        conv_output = self.conv(input).transpose(-1, -2)\n",
        "        gru_output, _ = self.gru(conv_output)\n",
        "        contex_vector = self.attention(gru_output)\n",
        "        output = self.classifier(contex_vector)\n",
        "        if return_layers:\n",
        "            return output, conv_output, gru_output, contex_vector \n",
        "        return output"
      ]
    },
    {
      "cell_type": "code",
      "execution_count": null,
      "metadata": {
        "colab": {
          "base_uri": "https://localhost:8080/"
        },
        "id": "ca3aRJhsEhhI",
        "outputId": "a810bea2-1db2-483c-b81d-3ba645c6816b"
      },
      "outputs": [
        {
          "data": {
            "text/plain": [
              "_IncompatibleKeys(missing_keys=[], unexpected_keys=['total_ops', 'total_params', 'conv.1.total_ops', 'conv.1.total_params', 'attention.total_ops', 'attention.total_params', 'attention.energy.1.total_ops', 'attention.energy.1.total_params'])"
            ]
          },
          "execution_count": 55,
          "metadata": {},
          "output_type": "execute_result"
        }
      ],
      "source": [
        "config = SmallConfig(cnn_out_channels=4, hidden_size=15, attention_dim=15)\n",
        "teacher_model = CRNNSmall(config).to(config.device)\n",
        "teacher_model.load_state_dict(torch.load('/content/drive/MyDrive/distill_hidden_15.pth'), strict=False)"
      ]
    },
    {
      "cell_type": "code",
      "execution_count": null,
      "metadata": {
        "id": "EvXLiRgPEuSm"
      },
      "outputs": [],
      "source": [
        "set_random_seed()\n",
        "model = CRNNSmall(config, rnn_type=nn.LSTM).to(config.device)"
      ]
    },
    {
      "cell_type": "code",
      "execution_count": null,
      "metadata": {
        "id": "JfLuUkdRE5YV"
      },
      "outputs": [],
      "source": [
        "def train_epoch_distil_layer(model, teacher, opt, loader, log_melspec, device, config):\n",
        "    model.train()\n",
        "    for i, (batch, labels) in tqdm(enumerate(loader), total=len(loader)):\n",
        "        batch, labels = batch.to(device), labels.to(device)\n",
        "        batch = log_melspec(batch)\n",
        "\n",
        "        opt.zero_grad()\n",
        "\n",
        "        # run model # with autocast():\n",
        "        logits, conv, gru, contex = model(batch, return_layers=True)\n",
        "        with torch.no_grad():\n",
        "            teacher_logits, teacher_conv, teacher_gru, teacher_contex = teacher(batch, return_layers=True)\n",
        "        # we need probabilities so we use softmax & CE separately\n",
        "        probs = softmax_with_temp(logits)\n",
        "        true_loss = F.cross_entropy(logits, labels)\n",
        "        teacher_loss = F.cross_entropy(\n",
        "                                    softmax_with_temp(logits, config.temperature),\n",
        "                                    softmax_with_temp(teacher_logits, config.temperature)\n",
        "        ) + F.mse_loss(conv, teacher_conv) + F.mse_loss(gru, teacher_gru) + F.mse_loss(contex, teacher_contex)\n",
        "        loss =  (1 - config.teacher_loss_coeff) * true_loss + config.teacher_loss_coeff * teacher_loss\n",
        "\n",
        "        loss.backward()\n",
        "        torch.nn.utils.clip_grad_norm_(model.parameters(), 5)\n",
        "\n",
        "        opt.step()\n",
        "\n",
        "        # logging\n",
        "        argmax_probs = torch.argmax(probs, dim=-1)\n",
        "        FA, FR = count_FA_FR(argmax_probs, labels)\n",
        "        acc = torch.sum(argmax_probs == labels) / torch.numel(argmax_probs)\n",
        "\n",
        "    return acc\n",
        "\n",
        "def train(model, teacher_model, config, history):\n",
        "    set_random_seed()\n",
        "    for n in range(config.num_epochs):\n",
        "\n",
        "        train_epoch_distil_layer(model, teacher_model, opt, train_loader,\n",
        "                    melspec_train, config.device, config)\n",
        "\n",
        "        au_fa_fr = validation(model, val_loader,\n",
        "                            melspec_val, config.device)\n",
        "        history['val_metric'].append(au_fa_fr)\n",
        "        clear_output()\n",
        "        plt.plot(history['val_metric'])\n",
        "        plt.ylabel('Metric')\n",
        "        plt.xlabel('Epoch')\n",
        "        plt.grid()\n",
        "        plt.show()\n",
        "\n",
        "        print('END OF EPOCH', n)\n",
        "        if au_fa_fr < 5e-5:\n",
        "            break"
      ]
    },
    {
      "cell_type": "code",
      "execution_count": null,
      "metadata": {
        "colab": {
          "base_uri": "https://localhost:8080/",
          "height": 328
        },
        "id": "e0SNjZZBGKTo",
        "outputId": "a371a1ec-918c-494f-bc01-6eb025b8618b"
      },
      "outputs": [
        {
          "data": {
            "image/png": "[encoded data removed]",
            "text/plain": [
              "<Figure size 432x288 with 1 Axes>"
            ]
          },
          "metadata": {
            "needs_background": "light"
          },
          "output_type": "display_data"
        },
        {
          "name": "stdout",
          "output_type": "stream",
          "text": [
            "END OF EPOCH 11\n",
            "CPU times: user 2min 31s, sys: 20.6 s, total: 2min 52s\n",
            "Wall time: 9min 26s\n"
          ]
        }
      ],
      "source": [
        "%%time\n",
        "\n",
        "set_random_seed()\n",
        "history = defaultdict(list)\n",
        "opt = torch.optim.Adam(\n",
        "    model.parameters(),\n",
        "    lr=config.learning_rate,\n",
        "    weight_decay=config.weight_decay\n",
        ")\n",
        "train(model, teacher_model, config, history)"
      ]
    },
    {
      "cell_type": "code",
      "execution_count": null,
      "metadata": {
        "id": "rm9r64AUG3u1"
      },
      "outputs": [],
      "source": [
        "torch.save(model.state_dict(), \"/content/drive/MyDrive/distilled_model_lstm.pth\")"
      ]
    },
    {
      "cell_type": "code",
      "execution_count": null,
      "metadata": {
        "colab": {
          "base_uri": "https://localhost:8080/"
        },
        "id": "Niafu4omHlNm",
        "outputId": "15eea708-f4b5-4f5b-ca64-52eb5bdbbfa2"
      },
      "outputs": [
        {
          "name": "stdout",
          "output_type": "stream",
          "text": [
            " | Elapsed time : 0.0018031597\n",
            "[INFO] Register count_convNd() for <class 'torch.nn.modules.conv.Conv2d'>.\n",
            "[INFO] Register zero_ops() for <class 'torch.nn.modules.container.Sequential'>.\n",
            "[INFO] Register count_lstm() for <class 'torch.nn.modules.rnn.LSTM'>.\n",
            "[INFO] Register count_linear() for <class 'torch.nn.modules.linear.Linear'>.\n",
            "MAC'c: 296730.0\n",
            "Size of model: 0.028123855590820312\n",
            "\n",
            "Compression_rate: \n",
            "MACs: 3.048589626933576\n",
            "size in Mb: 3.641166497117667\n",
            "number of parameters:  0.7786803713527851\n"
          ]
        }
      ],
      "source": [
        "t, macs, size = compute_metrics(model, config.device)\n",
        "print()\n",
        "print(f\"Compression_rate: \")\n",
        "print(f\"MACs: {teacher_macs / macs}\")\n",
        "print(f\"size in Mb: {teacher_size / size}\")\n",
        "print(f\"number of parameters:  {sum([p.numel() for p in teacher_model.parameters()]) / sum([p.numel() for p in model.parameters()])}\")"
      ]
    },
    {
      "cell_type": "code",
      "execution_count": null,
      "metadata": {
        "colab": {
          "base_uri": "https://localhost:8080/"
        },
        "id": "vFeBxaz9IGtU",
        "outputId": "9c788bf4-8538-4b8b-c07a-850b8428e582"
      },
      "outputs": [
        {
          "name": "stdout",
          "output_type": "stream",
          "text": [
            " | Elapsed time : 0.0022566319\n",
            "[INFO] Register count_convNd() for <class 'torch.nn.modules.conv.Conv2d'>.\n",
            "[INFO] Register zero_ops() for <class 'torch.nn.modules.container.Sequential'>.\n",
            "[INFO] Register count_lstm() for <class 'torch.nn.modules.rnn.LSTM'>.\n",
            "[INFO] Register count_linear() for <class 'torch.nn.modules.linear.Linear'>.\n",
            "MAC'c: 296730.0\n",
            "Size of model: 0.016710281372070312\n",
            "\n",
            "Compression_rate: \n",
            "MACs: 3.048589626933576\n",
            "size in Mb: 6.128181714416162\n",
            "number of parameters:  0.7786803713527851\n"
          ]
        }
      ],
      "source": [
        "model_q = model.half()\n",
        "t, macs, size = compute_metrics_quant(model_q, config.device)\n",
        "print()\n",
        "print(f\"Compression_rate: \")\n",
        "print(f\"MACs: {teacher_macs / macs}\")\n",
        "print(f\"size in Mb: {teacher_size / size}\")\n",
        "print(f\"number of parameters:  {sum([p.numel() for p in teacher_model.parameters()]) / sum([p.numel() for p in model.parameters()])}\")"
      ]
    },
    {
      "cell_type": "markdown",
      "metadata": {
        "id": "Z1lEctL9MeOv"
      },
      "source": [
        "Next we are trying to improve RNN with distillation function on layers "
      ]
    },
    {
      "cell_type": "code",
      "execution_count": null,
      "metadata": {
        "id": "z1l0UAqvMdCA"
      },
      "outputs": [],
      "source": [
        "set_random_seed()\n",
        "config = SmallConfig(cnn_out_channels=4, hidden_size=15, attention_dim=15, teacher_loss_coeff=0.7)\n",
        "model = CRNNSmall(config, rnn_type=nn.RNN).to(config.device)"
      ]
    },
    {
      "cell_type": "code",
      "execution_count": null,
      "metadata": {
        "colab": {
          "base_uri": "https://localhost:8080/",
          "height": 328
        },
        "id": "sQgRfxzmMvWY",
        "outputId": "ce1c7da0-f08a-4c7f-f071-a6dafaad3745"
      },
      "outputs": [
        {
          "data": {
            "image/png": "[encoded data removed]",
            "text/plain": [
              "<Figure size 432x288 with 1 Axes>"
            ]
          },
          "metadata": {
            "needs_background": "light"
          },
          "output_type": "display_data"
        },
        {
          "name": "stdout",
          "output_type": "stream",
          "text": [
            "END OF EPOCH 39\n",
            "CPU times: user 8min 4s, sys: 1min 7s, total: 9min 12s\n",
            "Wall time: 29min 4s\n"
          ]
        }
      ],
      "source": [
        "%%time\n",
        "\n",
        "set_random_seed()\n",
        "history = defaultdict(list)\n",
        "opt = torch.optim.Adam(\n",
        "    model.parameters(),\n",
        "    lr=config.learning_rate,\n",
        "    weight_decay=config.weight_decay\n",
        ")\n",
        "train(model, teacher_model, config, history)\n",
        "torch.save(model.state_dict(), \"/content/drive/MyDrive/distilled_model_rnn.pth\")"
      ]
    },
    {
      "cell_type": "code",
      "execution_count": null,
      "metadata": {
        "colab": {
          "base_uri": "https://localhost:8080/"
        },
        "id": "5E6gF1wRNIIV",
        "outputId": "9a6bf118-a759-4723-a341-8434ab900d63"
      },
      "outputs": [
        {
          "data": {
            "text/plain": [
              "defaultdict(list,\n",
              "            {'val_metric': [0.00890698249315485,\n",
              "              0.0006752996193748964,\n",
              "              0.000460008405290768,\n",
              "              0.00043044815834768153,\n",
              "              0.00036867210578790953,\n",
              "              0.0003413049325808852,\n",
              "              0.00029791191034475866,\n",
              "              0.0003035930156419865,\n",
              "              0.00027691211040679133,\n",
              "              0.0002447171912066396,\n",
              "              0.0002721142021515694,\n",
              "              0.00024295079712262759,\n",
              "              0.00025110246711843986,\n",
              "              0.00025271967251292387,\n",
              "              0.00024428156023321773,\n",
              "              0.00024674615738422094,\n",
              "              0.00025497540549858784,\n",
              "              0.0002531582872601362,\n",
              "              0.00023857061719808424,\n",
              "              0.0002476383057475987,\n",
              "              0.0002485215027896047,\n",
              "              0.0002657736828466276,\n",
              "              0.000265403694896598,\n",
              "              0.00022073958502569254,\n",
              "              0.00024500960103811454,\n",
              "              0.0002555781278042811,\n",
              "              0.00023308047342345223,\n",
              "              0.0002468177679551945,\n",
              "              0.00024563619353413233,\n",
              "              0.00023231961110685927,\n",
              "              0.00019771081891014383,\n",
              "              0.00022212405606451276,\n",
              "              0.00023446494446227248,\n",
              "              0.0002510338403212569,\n",
              "              0.0002394955870731581,\n",
              "              0.00019885062049813804,\n",
              "              0.00020799887093999765,\n",
              "              0.00021837643618356835,\n",
              "              0.00021347111207188627,\n",
              "              0.00023501097506594516]})"
            ]
          },
          "execution_count": 122,
          "metadata": {},
          "output_type": "execute_result"
        }
      ],
      "source": [
        "history"
      ]
    },
    {
      "cell_type": "code",
      "execution_count": null,
      "metadata": {
        "colab": {
          "base_uri": "https://localhost:8080/"
        },
        "id": "naKC-vvXNPK-",
        "outputId": "f5d62367-0ebb-40d3-fbd0-55160ba3ba1c"
      },
      "outputs": [
        {
          "name": "stdout",
          "output_type": "stream",
          "text": [
            " | Elapsed time : 0.0010862350\n",
            "[INFO] Register count_convNd() for <class 'torch.nn.modules.conv.Conv2d'>.\n",
            "[INFO] Register zero_ops() for <class 'torch.nn.modules.container.Sequential'>.\n",
            "[INFO] Register count_rnn() for <class 'torch.nn.modules.rnn.RNN'>.\n",
            "[INFO] Register count_linear() for <class 'torch.nn.modules.linear.Linear'>.\n",
            "MAC'c: 202200.0\n",
            "Size of model: 0.012865066528320312\n",
            "\n",
            "Compression_rate: \n",
            "MACs: 4.473827893175074\n",
            "size in Mb: 7.959822090437361\n",
            "number of parameters:  2.3172175629008387\n"
          ]
        }
      ],
      "source": [
        "t, macs, size = compute_metrics(model, config.device)\n",
        "print()\n",
        "print(f\"Compression_rate: \")\n",
        "print(f\"MACs: {teacher_macs / macs}\")\n",
        "print(f\"size in Mb: {teacher_size / size}\")\n",
        "print(f\"number of parameters:  {sum([p.numel() for p in teacher_model.parameters()]) / sum([p.numel() for p in model.parameters()])}\")"
      ]
    },
    {
      "cell_type": "code",
      "execution_count": null,
      "metadata": {
        "colab": {
          "base_uri": "https://localhost:8080/"
        },
        "id": "sSyWSwRqNUtd",
        "outputId": "51477f21-c68e-44b6-90f6-701a4ed5c249"
      },
      "outputs": [
        {
          "name": "stdout",
          "output_type": "stream",
          "text": [
            " | Elapsed time : 0.0015423298\n",
            "[INFO] Register count_convNd() for <class 'torch.nn.modules.conv.Conv2d'>.\n",
            "[INFO] Register zero_ops() for <class 'torch.nn.modules.container.Sequential'>.\n",
            "[INFO] Register count_rnn() for <class 'torch.nn.modules.rnn.RNN'>.\n",
            "[INFO] Register count_linear() for <class 'torch.nn.modules.linear.Linear'>.\n",
            "MAC'c: 202200.0\n",
            "Size of model: 0.009080886840820312\n",
            "\n",
            "Compression_rate: \n",
            "MACs: 4.473827893175074\n",
            "size in Mb: 11.276832598193657\n",
            "number of parameters:  2.3172175629008387\n"
          ]
        }
      ],
      "source": [
        "model_q = model.half()\n",
        "t, macs, size = compute_metrics_quant(model_q, config.device)\n",
        "print()\n",
        "print(f\"Compression_rate: \")\n",
        "print(f\"MACs: {teacher_macs / macs}\")\n",
        "print(f\"size in Mb: {teacher_size / size}\")\n",
        "print(f\"number of parameters:  {sum([p.numel() for p in teacher_model.parameters()]) / sum([p.numel() for p in model.parameters()])}\")"
      ]
    },
    {
      "cell_type": "markdown",
      "metadata": {
        "id": "ni-dGry3UXvJ"
      },
      "source": [
        "Увеличим вес учителя при обучении"
      ]
    },
    {
      "cell_type": "code",
      "execution_count": null,
      "metadata": {
        "id": "YZ35MSoKUT-H"
      },
      "outputs": [],
      "source": [
        "set_random_seed()\n",
        "config = SmallConfig(cnn_out_channels=4, hidden_size=15, attention_dim=15, teacher_loss_coeff=0.9)\n",
        "model = CRNNSmall(config, rnn_type=nn.RNN).to(config.device)"
      ]
    },
    {
      "cell_type": "code",
      "execution_count": null,
      "metadata": {
        "colab": {
          "base_uri": "https://localhost:8080/",
          "height": 328
        },
        "id": "puwx_z-yUi0H",
        "outputId": "727cd5b5-5de5-4b93-e47c-87bf82e33512"
      },
      "outputs": [
        {
          "data": {
            "image/png": "[encoded data removed]",
            "text/plain": [
              "<Figure size 432x288 with 1 Axes>"
            ]
          },
          "metadata": {
            "needs_background": "light"
          },
          "output_type": "display_data"
        },
        {
          "name": "stdout",
          "output_type": "stream",
          "text": [
            "END OF EPOCH 39\n",
            "CPU times: user 7min 43s, sys: 1min 6s, total: 8min 49s\n",
            "Wall time: 28min 8s\n"
          ]
        }
      ],
      "source": [
        "%%time\n",
        "\n",
        "set_random_seed()\n",
        "history = defaultdict(list)\n",
        "opt = torch.optim.Adam(\n",
        "    model.parameters(),\n",
        "    lr=config.learning_rate,\n",
        "    weight_decay=config.weight_decay\n",
        ")\n",
        "train(model, teacher_model, config, history)\n",
        "torch.save(model.state_dict(), \"/content/drive/MyDrive/distilled_model_rnn_1.pth\")"
      ]
    },
    {
      "cell_type": "code",
      "execution_count": null,
      "metadata": {
        "colab": {
          "base_uri": "https://localhost:8080/"
        },
        "id": "pYDvz9sQUkX-",
        "outputId": "1720f43e-15ad-47df-b1c3-ffa5e7068c2d"
      },
      "outputs": [
        {
          "data": {
            "text/plain": [
              "defaultdict(list,\n",
              "            {'val_metric': [0.008414740379604654,\n",
              "              0.0007415274624301853,\n",
              "              0.0004894821227939282,\n",
              "              0.0004505498423746901,\n",
              "              0.0004054053449235042,\n",
              "              0.0003689376616552693,\n",
              "              0.0003166440422018998,\n",
              "              0.0003148537779275632,\n",
              "              0.00029020780641753047,\n",
              "              0.0002643504227485301,\n",
              "              0.00027330472789400325,\n",
              "              0.00025549458213814546,\n",
              "              0.00025481428171389756,\n",
              "              0.00025585561876680335,\n",
              "              0.00024099344151601966,\n",
              "              0.00024511701689457476,\n",
              "              0.00025989266470543215,\n",
              "              0.0002477308027351061,\n",
              "              0.0002434461035718607,\n",
              "              0.0002424883121850907,\n",
              "              0.00025464122283404506,\n",
              "              0.00027093262773050737,\n",
              "              0.0002668090523519522,\n",
              "              0.00022662955448825967,\n",
              "              0.00023491549430464722,\n",
              "              0.00028286175534516963,\n",
              "              0.0002517320433882482,\n",
              "              0.0002650903986485891,\n",
              "              0.0002507653006801065,\n",
              "              0.00025767870455283595,\n",
              "              0.0002269816397955459,\n",
              "              0.00024584804147326217,\n",
              "              0.0002595525144933082,\n",
              "              0.00028679436920112886,\n",
              "              0.00028485193246347376,\n",
              "              0.00021912536340499913,\n",
              "              0.00021944164342679854,\n",
              "              0.0002448932338602827,\n",
              "              0.00024111279246764208,\n",
              "              0.0002611607685664205]})"
            ]
          },
          "execution_count": 59,
          "metadata": {},
          "output_type": "execute_result"
        }
      ],
      "source": [
        "history"
      ]
    },
    {
      "cell_type": "code",
      "execution_count": null,
      "metadata": {
        "colab": {
          "base_uri": "https://localhost:8080/"
        },
        "id": "U6QaHuv8UrUS",
        "outputId": "32390b9c-bc10-41de-c062-947a7435f054"
      },
      "outputs": [
        {
          "name": "stdout",
          "output_type": "stream",
          "text": [
            " | Elapsed time : 0.0011990070\n",
            "[INFO] Register count_convNd() for <class 'torch.nn.modules.conv.Conv2d'>.\n",
            "[INFO] Register zero_ops() for <class 'torch.nn.modules.container.Sequential'>.\n",
            "[INFO] Register count_rnn() for <class 'torch.nn.modules.rnn.RNN'>.\n",
            "[INFO] Register count_linear() for <class 'torch.nn.modules.linear.Linear'>.\n",
            "MAC'c: 202200.0\n",
            "Size of model: 0.012865066528320312\n",
            "\n",
            "Compression_rate: \n",
            "MACs: 4.473827893175074\n",
            "size in Mb: 7.959822090437361\n",
            "number of parameters:  2.3172175629008387\n"
          ]
        }
      ],
      "source": [
        "t, macs, size = compute_metrics(model, config.device)\n",
        "print()\n",
        "print(f\"Compression_rate: \")\n",
        "print(f\"MACs: {teacher_macs / macs}\")\n",
        "print(f\"size in Mb: {teacher_size / size}\")\n",
        "print(f\"number of parameters:  {sum([p.numel() for p in teacher_model.parameters()]) / sum([p.numel() for p in model.parameters()])}\")"
      ]
    },
    {
      "cell_type": "code",
      "execution_count": null,
      "metadata": {
        "colab": {
          "base_uri": "https://localhost:8080/"
        },
        "id": "EAtj7VoQVAND",
        "outputId": "daab7c25-cd37-4086-9de7-c9818e3bf9e4"
      },
      "outputs": [
        {
          "name": "stdout",
          "output_type": "stream",
          "text": [
            " | Elapsed time : 0.1005673409\n",
            "[INFO] Register count_convNd() for <class 'torch.nn.modules.conv.Conv2d'>.\n",
            "[INFO] Register zero_ops() for <class 'torch.nn.modules.container.Sequential'>.\n",
            "[INFO] Register count_rnn() for <class 'torch.nn.modules.rnn.RNN'>.\n",
            "[INFO] Register count_linear() for <class 'torch.nn.modules.linear.Linear'>.\n",
            "MAC'c: 202200.0\n",
            "Size of model: 0.009080886840820312\n",
            "\n",
            "Compression_rate: \n",
            "MACs: 4.473827893175074\n",
            "size in Mb: 11.276832598193657\n",
            "number of parameters:  2.3172175629008387\n"
          ]
        }
      ],
      "source": [
        "model_q = model.half()\n",
        "t, macs, size = compute_metrics_quant(model_q, config.device)\n",
        "print()\n",
        "print(f\"Compression_rate: \")\n",
        "print(f\"MACs: {teacher_macs / macs}\")\n",
        "print(f\"size in Mb: {teacher_size / size}\")\n",
        "print(f\"number of parameters:  {sum([p.numel() for p in teacher_model.parameters()]) / sum([p.numel() for p in model.parameters()])}\")"
      ]
    },
    {
      "cell_type": "markdown",
      "metadata": {
        "id": "gLMcIYQOe4Ey"
      },
      "source": [
        "Did't help. So the best copression rates are:\n",
        "\n",
        "MACs: 3.419085631349782\n",
        "\n",
        "size in Mb: 7.2700067704807045\n",
        "\n",
        "For model distilled_att_12"
      ]
    },
    {
      "cell_type": "markdown",
      "metadata": {
        "id": "FvKqMAenZSKa"
      },
      "source": [
        "### Streaming KWS model"
      ]
    },
    {
      "cell_type": "code",
      "execution_count": 9,
      "metadata": {
        "id": "W4D37za4wAua",
        "colab": {
          "base_uri": "https://localhost:8080/"
        },
        "outputId": "25668ee9-a38d-41c7-b6b4-8d00ac6dad94"
      },
      "outputs": [
        {
          "output_type": "stream",
          "name": "stderr",
          "text": [
            "/usr/local/lib/python3.7/dist-packages/torch/nn/modules/rnn.py:70: UserWarning: dropout option adds dropout after all but last recurrent layer, so non-zero dropout expects num_layers greater than 1, but got dropout=0.1 and num_layers=1\n",
            "  \"num_layers={}\".format(dropout, num_layers))\n"
          ]
        }
      ],
      "source": [
        "import typing as tp\n",
        "class StreamingKWS(nn.Module):\n",
        "    def __init__(self, model_class: type, config: SmallConfig):\n",
        "        super().__init__()\n",
        "        self.melspec = torchaudio.transforms.MelSpectrogram(\n",
        "                sample_rate=config.sample_rate,\n",
        "                n_fft=400,\n",
        "                win_length=400,\n",
        "                hop_length=160,\n",
        "                n_mels=config.n_mels\n",
        "        )\n",
        "        self.model = model_class(config)\n",
        "        self.max_window_length = config.max_window_length\n",
        "        self.buffer: Optional[torch.Tensor] = torch.zeros(1, self.max_window_length, config.hidden_size)\n",
        "        self.hidden: Optional[torch.Tensor] = torch.zeros(1, 1, config.hidden_size)\n",
        "        self.overlap = config.kernel_size[0] - config.stride[0]\n",
        "        self.overlap = max(0, self.overlap)\n",
        "\n",
        "    def mel(self, batch):\n",
        "        return torch.log(self.melspec(batch).clamp_(min=1e-9, max=1e9))\n",
        "\n",
        "    def forward(self, input: torch.Tensor) -> tp.Any:\n",
        "        if self.training:\n",
        "            return self.model(self.mel(input))\n",
        "        else:\n",
        "            # if batch contains only one wav and batch dimension doesn't exist\n",
        "            if len(input.shape) == 1:\n",
        "                input = input.unsqueeze(0)\n",
        "            input = self.mel(input)\n",
        "            # if you want lower memory and have gpu available use this\n",
        "            #\n",
        "            #    input = input.half()\n",
        "            input = input.unsqueeze(dim=1)\n",
        "            conv_output = self.model.conv(input).transpose(-1, -2)\n",
        "            # works only for unidirectional gru, but we don't need biderectional\n",
        "            # because it's much more complex to compute and it works\n",
        "            gru_output, self.hidden = self.model.gru(conv_output, hx=self.hidden)\n",
        "            if self.buffer is None:\n",
        "                self.buffer = gru_output.clone()\n",
        "            else:\n",
        "                self.buffer = torch.cat([self.buffer, gru_output.clone()], dim=1)[:, -self.max_window_length:, :]\n",
        "            att = self.model.attention(self.buffer)\n",
        "            output = self.model.classifier(att)\n",
        "            out = F.softmax(output, dim=-1)[:, 1].cpu().item()\n",
        "            return out\n",
        "\n",
        "config = SmallConfig(cnn_out_channels=4, hidden_size=15, attention_dim=12)\n",
        "model_stream = StreamingKWS(CRNNSmall, config)\n",
        "model_dist = CRNNSmall(config).to(config.device)\n",
        "model_dist.load_state_dict(torch.load('distill_att_12.pth', map_location=torch.device('cpu')), strict=False)\n",
        "# model_dist = model_dist.half()\n",
        "model_stream.model = model_dist\n",
        "compiled_model = torch.jit.script(model_stream)\n",
        "torch.jit.save(compiled_model, 'stream_model.pth')"
      ]
    },
    {
      "cell_type": "code",
      "source": [
        "import librosa\n",
        "\n",
        "class MySpeechDataset(Dataset):\n",
        "\n",
        "    def __init__(\n",
        "        self,\n",
        "        transform: Optional[Callable] = None,\n",
        "        path2dir: str = None,\n",
        "        keywords: Union[str, List[str]] = None,\n",
        "        csv: Optional[pd.DataFrame] = None\n",
        "    ):\n",
        "        self.transform = transform\n",
        "        path2dir = pathlib.Path(path2dir)\n",
        "        triplets = []\n",
        "        paths = (path2dir).rglob('*.wav')\n",
        "        for path2wav in paths:\n",
        "            triplets.append(path2wav.as_posix())\n",
        "        self.csv = pd.DataFrame(\n",
        "                triplets,\n",
        "                columns=['path']\n",
        "        )\n",
        "        set_random_seed()\n",
        "        self._where = torch.rand(size=(len(self.csv),))\n",
        "        self._sheila, _ = torchaudio.load(\"speech_commands/sheila/004ae714_nohash_0.wav\")\n",
        "        self._sheila = self._sheila.squeeze()\n",
        "\n",
        "\n",
        "    def __getitem__(self, index: int):\n",
        "        instance = self.csv.iloc[index]\n",
        "\n",
        "        path2wav = instance['path']\n",
        "        wav, sr = librosa.load(path2wav)\n",
        "        wav = librosa.resample(wav, orig_sr=sr, target_sr=48000)\n",
        "        wav = torch.tensor(wav[::3])\n",
        "        idx = int(self._where[index] * len(wav))\n",
        "        wav = torch.cat([wav[:idx], self._sheila, wav[idx:]])\n",
        "\n",
        "        if self.transform:\n",
        "            wav = self.transform(wav)\n",
        "\n",
        "        return {\n",
        "            'wav': wav,\n",
        "            'label': path2wav,\n",
        "            'idx' : self._where[index]\n",
        "        }\n",
        "\n",
        "    def __len__(self):\n",
        "        return len(self.csv)"
      ],
      "metadata": {
        "id": "eADO4hmM6Dih"
      },
      "execution_count": 87,
      "outputs": []
    },
    {
      "cell_type": "code",
      "source": [
        "my_dataset = MySpeechDataset(path2dir='audio/')"
      ],
      "metadata": {
        "id": "Nn89J7NGBOda"
      },
      "execution_count": 88,
      "outputs": []
    },
    {
      "cell_type": "code",
      "source": [
        "my_dataset[0]"
      ],
      "metadata": {
        "colab": {
          "base_uri": "https://localhost:8080/"
        },
        "id": "ghmG1UzaBTvR",
        "outputId": "2e6d7a14-b8b5-4be8-d3b6-cad15d5e2e8a"
      },
      "execution_count": 92,
      "outputs": [
        {
          "output_type": "stream",
          "name": "stderr",
          "text": [
            "/usr/local/lib/python3.7/dist-packages/librosa/core/audio.py:165: UserWarning: PySoundFile failed. Trying audioread instead.\n",
            "  warnings.warn(\"PySoundFile failed. Trying audioread instead.\")\n"
          ]
        },
        {
          "output_type": "execute_result",
          "data": {
            "text/plain": [
              "{'wav': tensor([ 8.5809e-03,  1.4300e-02,  1.4781e-02,  ..., -1.0504e-02,\n",
              "         -7.0599e-03, -4.9066e-05]),\n",
              " 'label': 'audio/claudia.wav',\n",
              " 'idx': tensor(0.8823)}"
            ]
          },
          "metadata": {},
          "execution_count": 92
        }
      ]
    },
    {
      "cell_type": "code",
      "source": [
        "my_loader = DataLoader(dataset=my_dataset,\n",
        "                       batch_size=1,\n",
        "                       shuffle=False,\n",
        "                       )"
      ],
      "metadata": {
        "id": "3uO-vtPGFpEb"
      },
      "execution_count": 93,
      "outputs": []
    },
    {
      "cell_type": "code",
      "source": [
        "from collections import defaultdict\n",
        "\n",
        "model_stream.eval()\n",
        "\n",
        "probs = defaultdict(list)\n",
        "idxs = {}\n",
        "frames_per_chunk = 16000\n",
        "for dct in my_loader:\n",
        "    model_stream.buffer = None\n",
        "    wav = dct['wav']\n",
        "    name = dct['label'][0]\n",
        "    idxs[name] = dct['idx']\n",
        "    for i in range(0, wav.shape[-1] - frames_per_chunk, frames_per_chunk):\n",
        "        probs[name].append(model_stream(wav[..., i:i+frames_per_chunk]))"
      ],
      "metadata": {
        "colab": {
          "base_uri": "https://localhost:8080/"
        },
        "id": "6i32gBT-O0fi",
        "outputId": "904362b5-8e9a-46ee-b562-05051e22a070"
      },
      "execution_count": 95,
      "outputs": [
        {
          "output_type": "stream",
          "name": "stderr",
          "text": [
            "/usr/local/lib/python3.7/dist-packages/librosa/core/audio.py:165: UserWarning: PySoundFile failed. Trying audioread instead.\n",
            "  warnings.warn(\"PySoundFile failed. Trying audioread instead.\")\n",
            "/usr/local/lib/python3.7/dist-packages/librosa/core/audio.py:165: UserWarning: PySoundFile failed. Trying audioread instead.\n",
            "  warnings.warn(\"PySoundFile failed. Trying audioread instead.\")\n",
            "/usr/local/lib/python3.7/dist-packages/librosa/core/audio.py:165: UserWarning: PySoundFile failed. Trying audioread instead.\n",
            "  warnings.warn(\"PySoundFile failed. Trying audioread instead.\")\n",
            "/usr/local/lib/python3.7/dist-packages/librosa/core/audio.py:165: UserWarning: PySoundFile failed. Trying audioread instead.\n",
            "  warnings.warn(\"PySoundFile failed. Trying audioread instead.\")\n",
            "/usr/local/lib/python3.7/dist-packages/librosa/core/audio.py:165: UserWarning: PySoundFile failed. Trying audioread instead.\n",
            "  warnings.warn(\"PySoundFile failed. Trying audioread instead.\")\n",
            "/usr/local/lib/python3.7/dist-packages/librosa/core/audio.py:165: UserWarning: PySoundFile failed. Trying audioread instead.\n",
            "  warnings.warn(\"PySoundFile failed. Trying audioread instead.\")\n",
            "/usr/local/lib/python3.7/dist-packages/librosa/core/audio.py:165: UserWarning: PySoundFile failed. Trying audioread instead.\n",
            "  warnings.warn(\"PySoundFile failed. Trying audioread instead.\")\n",
            "/usr/local/lib/python3.7/dist-packages/librosa/core/audio.py:165: UserWarning: PySoundFile failed. Trying audioread instead.\n",
            "  warnings.warn(\"PySoundFile failed. Trying audioread instead.\")\n",
            "/usr/local/lib/python3.7/dist-packages/librosa/core/audio.py:165: UserWarning: PySoundFile failed. Trying audioread instead.\n",
            "  warnings.warn(\"PySoundFile failed. Trying audioread instead.\")\n"
          ]
        }
      ]
    },
    {
      "cell_type": "markdown",
      "source": [
        "Dots below are approximate beggining of \"sheila\" word in the input sequence."
      ],
      "metadata": {
        "id": "ELG9H_OpRbFM"
      }
    },
    {
      "cell_type": "code",
      "source": [
        "import matplotlib.pyplot as plt\n",
        "\n",
        "plt.figure(figsize=[20, 10])\n",
        "for name, prob in probs.items():\n",
        "    plt.plot(prob, label=name)\n",
        "    idx_sh = int(len(prob) * idxs[name])\n",
        "    plt.scatter(idx_sh, prob[idx_sh])\n",
        "\n",
        "plt.xlabel('Time', fontsize=14)\n",
        "plt.xticks([])\n",
        "plt.ylabel(\"Probability of 'sheila'\", fontsize=14)\n",
        "plt.legend(fontsize=13, loc='upper right')\n",
        "plt.show()"
      ],
      "metadata": {
        "colab": {
          "base_uri": "https://localhost:8080/",
          "height": 592
        },
        "id": "kc1YviJGO5RC",
        "outputId": "31ded28c-43b7-45d7-fd32-073468845c1b"
      },
      "execution_count": 111,
      "outputs": [
        {
          "output_type": "display_data",
          "data": {
            "text/plain": [
              "<Figure size 1440x720 with 1 Axes>"
            ],
            "image/png": "[encoded data removed]"
          },
          "metadata": {
            "needs_background": "light"
          }
        }
      ]
    }
  ],
  "metadata": {
    "accelerator": "GPU",
    "colab": {
      "collapsed_sections": [],
      "provenance": []
    },
    "gpuClass": "standard",
    "kernelspec": {
      "display_name": "Python 3 (ipykernel)",
      "language": "python",
      "name": "python3"
    },
    "language_info": {
      "codemirror_mode": {
        "name": "ipython",
        "version": 3
      },
      "file_extension": ".py",
      "mimetype": "text/x-python",
      "name": "python",
      "nbconvert_exporter": "python",
      "pygments_lexer": "ipython3",
      "version": "3.9.13"
    }
  },
  "nbformat": 4,
  "nbformat_minor": 0
}